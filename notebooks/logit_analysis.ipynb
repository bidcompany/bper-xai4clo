{
 "cells": [
  {
   "cell_type": "code",
   "execution_count": 4,
   "metadata": {},
   "outputs": [],
   "source": [
    "import os\n",
    "import sys\n",
    "from dotenv import load_dotenv\n",
    "from sklearn.linear_model import LogisticRegression\n",
    "import pandas as pd\n",
    "import numpy as np\n",
    "\n",
    "scripts_path = os.getcwd()\n",
    "env_file_path = os.path.join(scripts_path, 'env.txt')\n",
    "load_dotenv(env_file_path)\n",
    "main_path = os.getenv(\"MAIN_PATH\")\n",
    "\n",
    "sys.path.append(main_path)\n",
    "data_path = os.path.join(main_path, 'data')"
   ]
  },
  {
   "cell_type": "code",
   "execution_count": 181,
   "metadata": {},
   "outputs": [],
   "source": [
    "samples_file = os.path.join(data_path, 'EW_BusinessXai_v2.xlsx')\n",
    "samples = pd.read_excel(samples_file, sheet_name = 'EW_MODULI_SCORE_CORPORATE')\n",
    "predictions = pd.read_excel(samples_file, sheet_name = 'EW_SCORE_CORPORATE')\n",
    "kpi_map = pd.read_excel(os.path.join(data_path, 'mapping descrizioni KPI_v6.1.xlsx'))\n",
    "kpi_map = kpi_map.rename(columns={'ID':'KPI'})\n",
    "kpi_map = kpi_map[kpi_map.NOME_COLONNA_OUTPUT=='VALORE'].drop(['TIPOLOGIA_OUTPUT','COL_TO_TRANSPOSE','VALUE','CONSTANT_TO_ADD','TO_DROP','DESCRIZIONE','DATA_INIZIO_VALIDITA','DATA_FINE_VALIDITA'], axis = 1)\n",
    "\n",
    "weights = pd.read_excel(os.path.join(data_path, 'logit_weights.xlsx'), sheet_name='weights')\n",
    "weights = weights.set_index('Variabile').join(kpi_map[(kpi_map.KPI.isin(samples.KPI_CD.unique()))].set_index('CAMPO')).reset_index().sort_values(['MODELLO','MODULO_DS']).set_index('KPI')\n",
    "\n",
    "data = samples.pivot(index = 'ID', columns = 'KPI_CD', values='VALORE_QT')"
   ]
  },
  {
   "cell_type": "code",
   "execution_count": null,
   "metadata": {},
   "outputs": [],
   "source": [
    "logit = lambda coefs, intercept, samples: 1/(1+np.exp(-1*np.matmul(coefs,samples.T)+intercept))"
   ]
  },
  {
   "cell_type": "code",
   "execution_count": 185,
   "metadata": {},
   "outputs": [],
   "source": [
    "model = 'CORPORATE' \n",
    "module = 'Andamentale Interno'\n",
    "\n",
    "module_weights = weights[(weights.MODELLO == model) & (weights.MODULO_DS == module)]\n",
    "intercept = module_weights[module_weights.Variabile == 'intercept'].Coefficiente.values[0]\n",
    "coefs = module_weights[module_weights.Variabile!='intercept'].Coefficiente.sort_index()\n",
    "\n",
    "input_data = data.loc[:,coefs.index]"
   ]
  },
  {
   "cell_type": "code",
   "execution_count": 186,
   "metadata": {},
   "outputs": [
    {
     "data": {
      "text/plain": [
       "array([[0.98897997, 0.99129118]])"
      ]
     },
     "execution_count": 186,
     "metadata": {},
     "output_type": "execute_result"
    }
   ],
   "source": [
    "logit(coefs.values.reshape(1,-1), intercept, input_data.values)"
   ]
  },
  {
   "cell_type": "code",
   "execution_count": 111,
   "metadata": {},
   "outputs": [],
   "source": [
    "lr = LogisticRegression()\n",
    "lr.coef_ = coefs.values\n",
    "lr.intercept_ = intercept"
   ]
  },
  {
   "cell_type": "code",
   "execution_count": 199,
   "metadata": {},
   "outputs": [
    {
     "data": {
      "text/plain": [
       "array([[-0.57195239,  0.2482833 , -0.01197736, -0.29806582, -0.04801041,\n",
       "        -0.57395842],\n",
       "       [-0.57859581, -0.03660696,  0.19790218, -0.30152795, -0.04856807,\n",
       "         0.03541411]])"
      ]
     },
     "execution_count": 199,
     "metadata": {},
     "output_type": "execute_result"
    }
   ],
   "source": [
    "contrib = lambda coefs, intercept, samples: (logit(coefs, intercept, samples)* 1/(1+np.exp(1*np.matmul(coefs,samples.T)+intercept))).T*samples\n",
    "contrib(coefs.values.reshape(1,-1), intercept, input_data.values)"
   ]
  },
  {
   "cell_type": "code",
   "execution_count": 187,
   "metadata": {},
   "outputs": [
    {
     "data": {
      "text/plain": [
       "array([[ 0.49364184,  0.31837781, -0.24095205,  0.14342043,  0.1247628 ,\n",
       "         0.46582615,  0.27976271, -0.13957967],\n",
       "       [ 0.49364184,  0.43579543,  0.24929573,  0.14342043,  0.1247628 ,\n",
       "         0.09587228,  0.27976271, -0.13957967]])"
      ]
     },
     "execution_count": 187,
     "metadata": {},
     "output_type": "execute_result"
    }
   ],
   "source": [
    "contrib = lambda coefs, samples: coefs * samples\n",
    "contrib(coefs.values, input_data.values)"
   ]
  },
  {
   "cell_type": "code",
   "execution_count": 189,
   "metadata": {},
   "outputs": [
    {
     "data": {
      "text/plain": [
       "array([[0.98530215, 0.98802965]])"
      ]
     },
     "execution_count": 189,
     "metadata": {},
     "output_type": "execute_result"
    }
   ],
   "source": [
    "module = 'Centrale Rischi'\n",
    "\n",
    "module_weights = weights[(weights.MODELLO == model) & (weights.MODULO_DS == module)]\n",
    "intercept = module_weights[module_weights.Variabile == 'Intercept'].Coefficiente.values[0]\n",
    "coefs = module_weights[module_weights.Variabile!='Intercept'].Coefficiente.sort_index()\n",
    "\n",
    "input_data = data.loc[:,coefs.index]\n",
    "logit(coefs.values.reshape(1,-1), intercept, input_data.values)"
   ]
  },
  {
   "cell_type": "code",
   "execution_count": 190,
   "metadata": {},
   "outputs": [
    {
     "data": {
      "text/plain": [
       "array([[0.97059142, 0.96280157]])"
      ]
     },
     "execution_count": 190,
     "metadata": {},
     "output_type": "execute_result"
    }
   ],
   "source": [
    "module = 'Bilanci'\n",
    "module_data = samples[(samples.MODELLO == model) & (samples.MODULO_DS == module)].pivot(index = 'ID', columns = 'KPI_CD', values='VALORE_QT')\n",
    "\n",
    "module_weights = weights[(weights.MODELLO == model) & (weights.MODULO_DS == module)]\n",
    "intercept = module_weights[module_weights.Variabile == 'Intercept'].Coefficiente.values[0]\n",
    "coefs = module_weights[module_weights.Variabile!='Intercept'].Coefficiente.sort_index()\n",
    "\n",
    "input_data = data.loc[:,coefs.index]\n",
    "logit(coefs.values.reshape(1,-1), intercept, input_data.values)"
   ]
  }
 ],
 "metadata": {
  "kernelspec": {
   "display_name": "bper_venv",
   "language": "python",
   "name": "python3"
  },
  "language_info": {
   "codemirror_mode": {
    "name": "ipython",
    "version": 3
   },
   "file_extension": ".py",
   "mimetype": "text/x-python",
   "name": "python",
   "nbconvert_exporter": "python",
   "pygments_lexer": "ipython3",
   "version": "3.10.13"
  }
 },
 "nbformat": 4,
 "nbformat_minor": 2
}
