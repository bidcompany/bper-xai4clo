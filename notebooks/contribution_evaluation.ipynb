{
 "cells": [
  {
   "cell_type": "code",
   "execution_count": 1,
   "metadata": {},
   "outputs": [],
   "source": [
    "import os\n",
    "import sys\n",
    "from dotenv import load_dotenv\n",
    "from sklearn.linear_model import LogisticRegression\n",
    "import pandas as pd\n",
    "import numpy as np\n",
    "import pickle\n",
    "import codecs\n",
    "\n",
    "scripts_path = os.getcwd()\n",
    "env_file_path = os.path.join(scripts_path, 'env.txt')\n",
    "load_dotenv(env_file_path)\n",
    "main_path = os.getenv(\"MAIN_PATH\")\n",
    "\n",
    "sys.path.append(main_path)\n",
    "data_path = os.path.join(main_path, 'data')\n",
    "models_path = os.path.join(main_path, 'models','DS06G_XXcoefficientiModelli')\n",
    "models_xgb_path = os.path.join(main_path, 'models','DS06B_XXmodelCorporate')"
   ]
  },
  {
   "cell_type": "code",
   "execution_count": 2,
   "metadata": {},
   "outputs": [],
   "source": [
    "samples_file = os.path.join(data_path, 'EW_BusinessXai_v2.xlsx')\n",
    "samples = pd.read_excel(samples_file, sheet_name = 'EW_MODULI_SCORE_CORPORATE')\n",
    "scores = pd.read_excel(samples_file, sheet_name = 'EW_SCORE_CORPORATE').set_index('ID')\n",
    "kpi_map = pd.read_excel(os.path.join(data_path, 'mapping descrizioni KPI_v6.1.xlsx'))\n",
    "\n",
    "kpi_map = kpi_map.rename(columns={'ID':'KPI'})\n",
    "kpi_map = kpi_map[kpi_map.NOME_COLONNA_OUTPUT=='VALORE'].drop(['TIPOLOGIA_OUTPUT','COL_TO_TRANSPOSE','VALUE','CONSTANT_TO_ADD','TO_DROP','DESCRIZIONE','DATA_INIZIO_VALIDITA','DATA_FINE_VALIDITA'], axis = 1)\n",
    "kpi_map = kpi_map[(kpi_map.KPI.isin(samples.KPI_CD.unique()))].drop(['NOME_COLONNA_OUTPUT', 'TABELLA'], axis = 1)\n",
    "kpi_map = samples.loc[:,['MODULO_DS', 'KPI_CD']].drop_duplicates().set_index('KPI_CD').join(kpi_map.set_index('KPI')).reset_index().rename(columns={'KPI_CD':'KPI'})\n",
    "\n",
    "data = samples.pivot(index = 'ID', columns = 'KPI_CD', values='VALORE_QT')\n",
    "\n",
    "descriptions = pd.read_excel(os.path.join(data_path, 'logit_weights.xlsx'), sheet_name='weights')\n",
    "descriptions = descriptions.set_index('Variabile').join(kpi_map.drop('MODULO_DS', axis=1).set_index('CAMPO'), how = 'inner').reset_index().sort_values(['MODELLO','MODULO_DS']).set_index('KPI')\n",
    "kpi_descriptions = descriptions.loc[:,'Descrizione'].to_dict()\n",
    "kpi_name = descriptions.loc[descriptions.index.dropna(),'Variabile'].to_dict()\n",
    "name_kpi = {name:kpi for kpi,name in kpi_name.items()}\n",
    "\n",
    "integration_cols = ['PD_MEDIA_UFFICIALE_M1_QT','PREVISIONE_WORST_QT']\n",
    "integration_data = scores.loc[:,integration_cols].rename(columns = {'PD_MEDIA_UFFICIALE_M1_QT':'binned_PD_MEDIA_UFFICIALE_M1','PREVISIONE_WORST_QT':'binned_VAR_PREVISIONE_4_0_base_oss'})"
   ]
  },
  {
   "cell_type": "code",
   "execution_count": 3,
   "metadata": {},
   "outputs": [],
   "source": [
    "slicer = pd.IndexSlice\n",
    "parquet_files = os.listdir(models_path)[:-1]\n",
    "models = pd.concat([pd.read_parquet(os.path.join(models_path, pqt_file)) for pqt_file in parquet_files]).reset_index(drop = True)\n",
    "models['value_type'] = models.apply(lambda x: x.NAME.split('_')[0], axis = 1)"
   ]
  },
  {
   "cell_type": "code",
   "execution_count": 4,
   "metadata": {},
   "outputs": [
    {
     "name": "stderr",
     "output_type": "stream",
     "text": [
      "C:\\Users\\GiorgioBarazzetta\\AppData\\Local\\Temp\\ipykernel_13416\\3230101557.py:5: SettingWithCopyWarning: \n",
      "A value is trying to be set on a copy of a slice from a DataFrame.\n",
      "Try using .loc[row_indexer,col_indexer] = value instead\n",
      "\n",
      "See the caveats in the documentation: https://pandas.pydata.org/pandas-docs/stable/user_guide/indexing.html#returning-a-view-versus-a-copy\n",
      "  medie_corporate['NAME'] = medie_corporate.NAME.str.replace('media_','')\n"
     ]
    }
   ],
   "source": [
    "## CONSIDERO CORPORATE\n",
    "models_corporate = models[models.MODELLO == 'Corporate']\n",
    "\n",
    "medie_corporate = models_corporate[models_corporate.value_type == 'media']\n",
    "medie_corporate['NAME'] = medie_corporate.NAME.str.replace('media_','')\n",
    "pivot_medie_corporate = medie_corporate.pivot(index = ['MODELLO','MODULO','NAME'], values='VALUE', columns='value_type')\n",
    "\n",
    "models_features_corporate = models_corporate.drop(medie_corporate.index).set_index(['MODELLO','MODULO','NAME'])\n",
    "\n",
    "logit_models_corporate = models_features_corporate.join(pivot_medie_corporate, how = 'left').loc[slicer['Corporate',['ANDAMENTALE_INTERNO','BILANCI','CR','INTEGRAZIONE_SCORE_MODULI', 'INTEGRAZIONE_INFO']], :]\n",
    "logit_models_corporate = logit_models_corporate.droplevel(0)"
   ]
  },
  {
   "cell_type": "code",
   "execution_count": 5,
   "metadata": {},
   "outputs": [
    {
     "name": "stderr",
     "output_type": "stream",
     "text": [
      "IProgress not found. Please update jupyter and ipywidgets. See https://ipywidgets.readthedocs.io/en/stable/user_install.html\n"
     ]
    }
   ],
   "source": [
    "import shap\n",
    "\n",
    "class XGBoost:\n",
    "    def __init__(self, df):\n",
    "        modelpickle = df['model'].iloc[0]\n",
    "        model = pickle.loads(codecs.decode(modelpickle.encode(), \"base64\"))\n",
    "        self.output_function = model\n",
    "    \n",
    "    def predict(self, X):\n",
    "        pred = self.output_function.predict_proba(X)[:,1]\n",
    "        pred = pd.Series(pred, index = X.index)\n",
    "        pred = np.log(pred/(1- pred))\n",
    "        return pred\n",
    "    \n",
    "    def explain(self, X):\n",
    "        explainer = shap.TreeExplainer(model=self.output_function)\n",
    "        explanations = explainer.shap_values(X.values)\n",
    "        explanations = pd.DataFrame(explanations, columns=X.columns, index = X.index)\n",
    "        return explanations\n",
    "\n",
    "\n",
    "\n",
    "class Logit:\n",
    "    def __init__(self, betas, intercept, averages):\n",
    "        self.betas = betas\n",
    "        self.intercept = intercept\n",
    "        self.averages = averages\n",
    "    \n",
    "    def predict(self, X):\n",
    "        log_odds_ratio  = X.transpose().apply(lambda x: (x*self.betas).sum()).dropna() + self.intercept\n",
    "        # pred = log_odds_ratio.apply(lambda x: 1/(1+np.exp(-1*x)))\n",
    "        return log_odds_ratio\n",
    "    \n",
    "    def explain(self, X):\n",
    "        explanations = X.transpose().apply(lambda x: (x - self.averages)*self.betas).dropna().transpose()\n",
    "        return explanations\n",
    "    \n",
    "    def predict_proba(self,X):\n",
    "        log_odds_ratio = self.predict(X)\n",
    "        pred = log_odds_ratio.apply(lambda x: 1/(1+np.exp(-1*x)))\n",
    "        return pred\n",
    "\n",
    "class Binner:\n",
    "    def __init__(self, table):\n",
    "        tables_rows = list(table.itertuples(index = False, name = None))\n",
    "        self.bins_mapper = {pd.IntervalIndex.from_tuples([(x[0], x[1])], closed='left')[0]: x[2] for x in tables_rows}\n",
    "        self.bins = pd.IntervalIndex.from_tuples([(x[0], x[1]) for x in tables_rows], closed = 'left')\n",
    "    \n",
    "    def transform(self, X):\n",
    "        binned_X = pd.Series(pd.cut(X.values.reshape(-1), self.bins), index = X.index).replace(self.bins_mapper).astype(float)\n",
    "        return binned_X"
   ]
  },
  {
   "cell_type": "code",
   "execution_count": 6,
   "metadata": {},
   "outputs": [],
   "source": [
    "transformation_path = os.path.join(main_path, 'models','DS06G_XX0BinnedScoresCorp')\n",
    "transformation_files = os.listdir(transformation_path)[:-1]\n",
    "transformation = pd.concat([pd.read_parquet(os.path.join(transformation_path, pqt_file)) for pqt_file in transformation_files]).reset_index(drop = True)\n",
    "transformation = transformation.rename(columns = {'feature':'MODULO'})\n",
    "map_score = {'score_bil':'BILANCI', 'score_AI': 'ANDAMENTALE_INTERNO', 'score_cr':'CR', 'score_trans': 'TRANSAZIONALE'}\n",
    "transformation = transformation.replace(map_score)"
   ]
  },
  {
   "cell_type": "code",
   "execution_count": 7,
   "metadata": {},
   "outputs": [],
   "source": [
    "def create_report(data, intercept, betas, averages, predictions, explanations,  binned_predictions, pc_explanations, modulo ):\n",
    "    melted_intercept = pd.DataFrame(intercept, index = data.index, columns = ['kpi_value'])\n",
    "    melted_intercept['kpi'] = 'intercept'\n",
    "    melted_intercept['beta'] = 1\n",
    "    melted_data  = data.melt(ignore_index=False, var_name='kpi',value_name='kpi_value').sort_index().reset_index().set_index('kpi')\n",
    "    melted_data = melted_data.join(betas.to_frame('beta'), how = 'inner').join(averages.to_frame('average')).reset_index().set_index('ID')\n",
    "    melted_data = pd.concat([melted_data,melted_intercept])\n",
    "    melted_data['modulo'] = modulo\n",
    "    melted_explanations = explanations.melt(ignore_index=False, var_name=['kpi'], value_name= 'contrib').sort_index().set_index('kpi', append = True)#.drop('modulo', axis = 1)\n",
    "    ff = melted_data.set_index('kpi', append = True).join(melted_explanations)\n",
    "\n",
    "    if isinstance(pc_explanations, pd.DataFrame):\n",
    "        melted_pc_explanations =  pc_explanations.melt(ignore_index=False, var_name=['kpi'], value_name= 'pc_contrib').sort_index().set_index('kpi', append = True)#.drop('modulo', axis = 1)\n",
    "        ff = ff.join(melted_pc_explanations)\n",
    "    ff = ff.reset_index(level = 1).join(predictions.to_frame('score'))\n",
    "    \n",
    "    if isinstance(binned_predictions, pd.Series):\n",
    "        print('here')\n",
    "        ff = ff.join(binned_predictions.to_frame('binned_score'))\n",
    "    return ff"
   ]
  },
  {
   "cell_type": "code",
   "execution_count": 8,
   "metadata": {},
   "outputs": [
    {
     "name": "stdout",
     "output_type": "stream",
     "text": [
      "here\n",
      "here\n",
      "here\n"
     ]
    }
   ],
   "source": [
    "contribs = []\n",
    "pc_contribs = []\n",
    "preds = []\n",
    "binned_preds = []\n",
    "renamed_data = data.rename(columns=kpi_name)\n",
    "binned_score_map = {'BILANCI': 'binned_score_bil', \n",
    "                    'ANDAMENTALE_INTERNO': 'binned_score_AI', \n",
    "                    'CR': 'binned_score_cr', \n",
    "                    'TRANSAZIONALE':'binned_score_trans' }\n",
    "report = []\n",
    "\n",
    "for modulo in ['ANDAMENTALE_INTERNO', 'BILANCI', 'CR']:\n",
    "    intercept = logit_models_corporate.loc[slicer[modulo, 'intercetta'], 'VALUE']\n",
    "    betas = logit_models_corporate.loc[slicer[modulo], 'VALUE'].drop('intercetta')\n",
    "    averages = logit_models_corporate.loc[slicer[modulo], 'media'].dropna()\n",
    "    model = Logit(betas, intercept, averages)\n",
    "\n",
    "    explanations = model.explain(renamed_data)\n",
    "    explanations.columns = pd.MultiIndex.from_product([[binned_score_map[modulo]], explanations.columns])\n",
    "    pc_explanations = (explanations.transpose()/explanations.sum(1)).transpose()\n",
    "\n",
    "    predictions = model.predict(renamed_data)\n",
    "\n",
    "    current_transformation = transformation[transformation.MODULO == modulo].iloc[:,1:4]\n",
    "    binned_predictions = Binner(current_transformation).transform(predictions)\n",
    "\n",
    "    contribs += [explanations]\n",
    "    pc_contribs += [pc_explanations]\n",
    "    preds += [predictions.to_frame(modulo)]\n",
    "    binned_preds += [binned_predictions.to_frame(binned_score_map[modulo])]\n",
    "    report += [create_report(renamed_data, intercept, betas, averages, predictions, explanations.droplevel(0,axis = 1), binned_predictions, pc_explanations.droplevel(0,axis = 1), modulo)]\n",
    "\n",
    "\n",
    "\n",
    "## TRANSAZIONALE - CALCOLO\n",
    "trans_features = kpi_map[kpi_map['MODULO_DS'] == 'Transazionale'].CAMPO.values.tolist()\n",
    "trans_data = renamed_data.loc[:, trans_features]\n",
    "files = os.listdir(models_xgb_path)[:-1]\n",
    "pd_xgb_model = pd.read_parquet(os.path.join(models_xgb_path, files[0]))\n",
    "xgboost_model = XGBoost(pd_xgb_model)\n",
    "\n",
    "trans_explanations = xgboost_model.explain(trans_data)\n",
    "trans_explanations.columns = pd.MultiIndex.from_product([[binned_score_map['TRANSAZIONALE']], trans_explanations.columns])\n",
    "pc_trans_explanations = (trans_explanations.transpose()/trans_explanations.sum(1)).transpose()\n",
    "\n",
    "trans_preds = xgboost_model.predict(trans_data)\n",
    "\n",
    "current_transformation = transformation[transformation.MODULO == 'TRANSAZIONALE'].iloc[:,1:4]\n",
    "trans_binned_predictions =  Binner(current_transformation).transform(trans_preds)\n",
    "\n",
    "contribs += [trans_explanations]\n",
    "pc_contribs += [pc_trans_explanations]\n",
    "preds += [trans_preds.to_frame('TRANSAZIONALE')]\n",
    "binned_preds += [trans_binned_predictions.to_frame(binned_score_map['TRANSAZIONALE'])]\n",
    "\n",
    "## TRANSAZIONALE - REPORT\n",
    "melted_data = trans_data.melt(ignore_index = False, var_name='kpi', value_name='kpi_value').set_index('kpi', append = True)\n",
    "melted_explanations = trans_explanations.melt(ignore_index=False, value_name='contrib', var_name=['modulo','kpi']).drop('modulo',axis = 1).set_index('kpi', append = True)\n",
    "melted_pc_explanations = pc_trans_explanations.melt(ignore_index=False, value_name='pc_contrib', var_name=['modulo','kpi']).drop('modulo',axis = 1).set_index('kpi', append = True)\n",
    "melted_explanations = melted_explanations.join(melted_pc_explanations)\n",
    "trans_report = melted_data.join(melted_explanations).reset_index(level = 1)\n",
    "trans_report['modulo'] = 'TRANSAZIONALE'\n",
    "trans_report = trans_report.join(trans_preds.to_frame('score')).join(trans_binned_predictions.to_frame('binned_score'))\n",
    "\n",
    "## INTEGRAZIONE - INPUT\n",
    "contribs = pd.concat(contribs, axis = 1)\n",
    "pc_contribs = pd.concat(pc_contribs, axis = 1)\n",
    "preds = pd.concat(preds, axis = 1)\n",
    "binned_preds = pd.concat(binned_preds, axis = 1)\n",
    "\n",
    "## INTEGRAZIONE SCORE MODULI - CALCOLO\n",
    "intercept_integrated = logit_models_corporate.loc[slicer['INTEGRAZIONE_SCORE_MODULI', 'intercetta'], 'VALUE']\n",
    "betas_integrated = logit_models_corporate.loc[slicer['INTEGRAZIONE_SCORE_MODULI'], 'VALUE'].drop('intercetta')\n",
    "averages_integrated = logit_models_corporate.loc[slicer['INTEGRAZIONE_SCORE_MODULI'], 'media'].dropna()\n",
    "model_integrated = Logit(betas_integrated, intercept_integrated, averages_integrated)\n",
    "\n",
    "explanations_integrated = model_integrated.explain(binned_preds)\n",
    "predictions_integrated = model_integrated.predict(binned_preds).to_frame('score_integrated')\n",
    "\n",
    "## INTEGRAZIONE SCORE MODULI - REPORT\n",
    "report_integrated = create_report(binned_preds, intercept_integrated, betas_integrated, averages_integrated, predictions_integrated.squeeze(), explanations_integrated, binned_predictions = None, pc_explanations = None, modulo = 'INTEGRAZIONE')\n",
    "\n",
    "# ## INTEGRAZIONE INFO\n",
    "intercept_ew = logit_models_corporate.loc[slicer['INTEGRAZIONE_INFO', 'intercetta'], 'VALUE']\n",
    "betas_ew = logit_models_corporate.loc[slicer['INTEGRAZIONE_INFO'], 'VALUE'].drop('intercetta')\n",
    "averages_ew = logit_models_corporate.loc[slicer['INTEGRAZIONE_INFO'], 'media'].dropna()\n",
    "model_ew = Logit(betas_ew, intercept_ew, averages_ew)\n",
    "\n",
    "ew_dataset = pd.concat([predictions_integrated, integration_data],axis = 1)\n",
    "\n",
    "explanations_ew = model_ew.explain(ew_dataset)\n",
    "predictions_ew = model_ew.predict(ew_dataset).to_frame('score_ew')\n",
    "proba_ew = model_ew.predict_proba(ew_dataset)\n",
    "\n",
    "# ## INTEGRAZIONE INFO - REPORT\n",
    "report_info = create_report(ew_dataset, intercept_ew, betas_ew, averages_ew, proba_ew, explanations_ew, binned_predictions = None, pc_explanations = None, modulo = 'INFO')\n",
    "\n",
    "# ### BACKWARD CONTRIBUTIONS --> -1 perchè WOE e log-odds modelli per modulo sono inversamente legati, ma solo se continuo con la catena di contributi\n",
    "scores_to_ew_contributions = betas_ew.loc['score_integrated']*explanations_integrated\n",
    "features_to_scores = pc_contribs.apply(lambda x: x.transpose()*scores_to_ew_contributions.loc[:,x.name[0]].transpose())\n",
    "explanations_integration = explanations_ew.loc[:,integration_data.columns]\n",
    "explanations_integration.columns = pd.MultiIndex.from_product([['INTEGRAZIONE_INFO'], explanations_integration.columns])\n",
    "features_to_scores = pd.concat([features_to_scores, explanations_integration], axis = 1)"
   ]
  },
  {
   "cell_type": "code",
   "execution_count": 9,
   "metadata": {},
   "outputs": [],
   "source": [
    "results_path = os.path.join(main_path,'results')\n",
    "results_file_path = os.path.join(results_path,'models_results.xlsx')\n",
    "contributions_file_path  = os.path.join(results_path, 'contributions_results.xlsx')\n",
    "\n",
    "concatenated_report = pd.concat(report+[trans_report]).set_index(['modulo','kpi'],append = True)\n",
    "\n",
    "ri = report_integrated.copy()\n",
    "ri = ri.replace({val:key for key,val in binned_score_map.items()}).set_index('kpi', append = True)\n",
    "ri.index.names = ['ID','modulo']\n",
    "concatenated_report = concatenated_report.reset_index(level = 2).join(ri.drop('modulo', axis = 1), rsuffix = '_INTEGRAZIONE')\n",
    "\n",
    "legacy_report = pd.concat([report_integrated.join(report_info[report_info.kpi=='score_integrated'], rsuffix = '_EW'), report_info]).set_index('modulo',append = True).sort_index(ascending=[True,False])"
   ]
  },
  {
   "cell_type": "code",
   "execution_count": null,
   "metadata": {},
   "outputs": [],
   "source": [
    "concatenated_report.reset_index(level = 1).join(report_info[report_info.kpi =='score_integrated'], rsuffix = '_EW').to_excel(os.path.join(results_path, 'test.xlsx'))"
   ]
  },
  {
   "cell_type": "code",
   "execution_count": 10,
   "metadata": {},
   "outputs": [
    {
     "name": "stderr",
     "output_type": "stream",
     "text": [
      "dropping on a non-lexsorted multi-index without a level parameter may impact performance.\n"
     ]
    }
   ],
   "source": [
    "ew_part = report_info.drop(['modulo','score'], axis = 1).rename(columns = {'kpi': 'join_kpi'}).set_index('join_kpi', append = True)\n",
    "\n",
    "integrated_part = report_integrated.drop(['modulo','score'], axis = 1)\n",
    "integrated_part['join_kpi'] = 'score_integrated'\n",
    "melted_contrib_to_ew = (betas_ew.loc['score_integrated']*explanations_integrated).melt(ignore_index = False, var_name = ['kpi'], value_name = 'contrib_to_ew_INTEGRAZIONE')#.drop('modulo', axis = 1)\n",
    "integrated_part = integrated_part.set_index('kpi', append = True).join(melted_contrib_to_ew.set_index('kpi', append = True)).reset_index(level = 1)\n",
    "integrated_part = integrated_part.set_index('join_kpi', append = True)\n",
    "\n",
    "ew_integrated_part = ew_part.join(integrated_part, lsuffix = '_EW', rsuffix = '_INTEGRAZIONE')\n",
    "ew_integrated_part = ew_integrated_part.reset_index(level = 1).rename(columns = {'kpi':'join_kpi', 'join_kpi':'kpi_EW'}).set_index('join_kpi', append = True)\n",
    "\n",
    "models_part = pd.concat(report+[trans_report]).drop(['score','binned_score'], axis = 1)\n",
    "models_part['join_kpi'] = models_part.modulo.replace(binned_score_map)\n",
    "models_part = models_part.set_index('join_kpi', append = True)\n",
    "models_part.columns = [x+'_MODELS' for x in models_part.columns]\n",
    "melted_contrib_scores_to_ew = features_to_scores.drop('INTEGRAZIONE_INFO', axis = 1).melt(ignore_index = False, var_name = ['join_kpi','kpi_MODELS'], value_name = 'contrib_to_ew_MODELS').set_index(['join_kpi','kpi_MODELS'], append = True)\n",
    "models_part = models_part.set_index('kpi_MODELS',append = True).join(melted_contrib_scores_to_ew)\n",
    "all_contribs = ew_integrated_part.join(models_part.reset_index(level = 2)).set_index(['modulo_MODELS', 'kpi_MODELS','kpi_EW'], append = True)"
   ]
  },
  {
   "cell_type": "code",
   "execution_count": null,
   "metadata": {},
   "outputs": [],
   "source": [
    "ew_all_contribs = all_contribs.loc[:,[col for col in all_contribs.columns if '_EW' in col]] \n",
    "ew_all_contribs.columns = pd.MultiIndex.from_product([['EW'],[x.replace('_EW','') for x in ew_all_contribs.columns ]])\n",
    "integrazione_all_contribs = all_contribs.loc[:,[col for col in all_contribs.columns if '_INTEGRAZIONE' in col]] \n",
    "integrazione_all_contribs.columns = pd.MultiIndex.from_product([['INTEGRAZIONE'],[x.replace('_INTEGRAZIONE','') for x in integrazione_all_contribs.columns ]])\n",
    "models_all_contribs = all_contribs.loc[:,[col for col in all_contribs.columns if '_MODELS' in col]]\n",
    "models_all_contribs.columns = pd.MultiIndex.from_product([['MODELS'],[x.replace('_MODELS','') for x in models_all_contribs.columns ]])\n",
    "\n",
    "pd.concat([ew_all_contribs, integrazione_all_contribs, models_all_contribs], axis = 1).to_excel(os.path.join(results_path, 'contribs_test2.xlsx'))"
   ]
  },
  {
   "cell_type": "code",
   "execution_count": 11,
   "metadata": {},
   "outputs": [],
   "source": [
    "### save\n",
    "explanations_ew.columns = pd.MultiIndex.from_product([['INTEGRAZIONE_INFO'],explanations_ew.columns])\n",
    "explanations_integrated.columns = pd.MultiIndex.from_product([['INTEGRAZIONE_SCORE_MODULI'],explanations_integrated.columns])\n",
    "expl = pd.concat([\n",
    "    contribs.melt(ignore_index=False, var_name=['modulo','variable_name']),\n",
    "    explanations_ew.melt(ignore_index=False, var_name=['modulo','variable_name']),\n",
    "    explanations_integrated.melt(ignore_index=False, var_name=['modulo','variable_name'])\n",
    "])\n"
   ]
  },
  {
   "cell_type": "code",
   "execution_count": null,
   "metadata": {},
   "outputs": [],
   "source": [
    "writer = pd.ExcelWriter(os.path.join(results_path,'contribs.xlsx'))\n",
    "expl.to_excel(writer, sheet_name = 'models_contribs')\n",
    "overall_contribs = features_to_scores.melt(ignore_index=False, var_name = ['modulo','kpi_name'], value_name = 'contrib').set_index('modulo', append = True).sort_index(ascending = [True,False])\n",
    "overall_contribs.to_excel(writer, sheet_name = 'overall_contribs')\n",
    "writer.close()"
   ]
  },
  {
   "cell_type": "markdown",
   "metadata": {},
   "source": [
    "### INTERPRETAZIONE RISULTATI"
   ]
  },
  {
   "cell_type": "code",
   "execution_count": 12,
   "metadata": {},
   "outputs": [
    {
     "name": "stderr",
     "output_type": "stream",
     "text": [
      "The class `langchain_community.chat_models.openai.ChatOpenAI` was deprecated in langchain-community 0.0.10 and will be removed in 0.2.0. An updated version of the class exists in the langchain-openai package and should be used instead. To use it run `pip install -U langchain-openai` and import as `from langchain_openai import ChatOpenAI`.\n"
     ]
    }
   ],
   "source": [
    "from langchain.chat_models import ChatOpenAI\n",
    "from langchain.chains import LLMChain\n",
    "from langchain.prompts import PromptTemplate\n",
    "import openai\n",
    "\n",
    "base_llm = ChatOpenAI(model=\"gpt-4\", temperature = 0, openai_api_key= os.environ.get('OPENAI_API_KEY'))"
   ]
  },
  {
   "cell_type": "code",
   "execution_count": 30,
   "metadata": {},
   "outputs": [],
   "source": [
    "variables_desc = pd.read_excel(os.path.join(data_path, 'logit_weights.xlsx'), sheet_name='weights')\n",
    "client_id = 1\n",
    "desc = variables_desc[(variables_desc.MODULO_DS!='Integrazione') & (-variables_desc.Variabile.isin(['intercept','Intercept','score_integrated']))].loc[:,['Variabile','Descrizione']].set_index('Variabile').join(features_to_scores.round(3).loc[client_id].droplevel(0).to_frame('importanza'))\n",
    "mkd_table = desc.reset_index().drop('Variabile', axis = 1).to_markdown(index=False)"
   ]
  },
  {
   "cell_type": "code",
   "execution_count": 14,
   "metadata": {},
   "outputs": [],
   "source": [
    "variables_listed = ' '.join(descriptions.loc[:, ['Variabile','Descrizione']].apply(lambda x: '\\n -' +' : '.join(x.tolist()), axis = 1).values.tolist())"
   ]
  },
  {
   "cell_type": "code",
   "execution_count": null,
   "metadata": {},
   "outputs": [],
   "source": [
    "prompt = \"\"\"\n",
    "Sei un data scientist che lavora per una banca. La tabella compresa tra i tag <table> riporta il contributo, in termini di SHAP-value, di ogni variabile alla previsione di un tuo modello di classificazione.\n",
    "Ogni variabile rappresenta una caratteristica del comportamento di un cliente.\n",
    "Fornisci una spiegazione della previsione svolta dal modello cercando di dedurre il comportamento del cliente.\n",
    "Concentrati sulle variabili che hanno influenzato maggiormente la previsione.\n",
    "\n",
    "<table>\n",
    "{table}\n",
    "<table>\n",
    "\"\"\".format(table = mkd_table)"
   ]
  },
  {
   "cell_type": "code",
   "execution_count": null,
   "metadata": {},
   "outputs": [],
   "source": [
    "print(prompt)"
   ]
  },
  {
   "cell_type": "code",
   "execution_count": null,
   "metadata": {},
   "outputs": [],
   "source": [
    "risp = base_llm.invoke(prompt).content\n",
    "print(risp)"
   ]
  },
  {
   "cell_type": "code",
   "execution_count": null,
   "metadata": {},
   "outputs": [],
   "source": [
    "Valuta contemporaneamente più variabili per dettagliare meglio l'operatività del cliente.\n"
   ]
  },
  {
   "cell_type": "code",
   "execution_count": null,
   "metadata": {},
   "outputs": [],
   "source": [
    "prompt = \"\"\"\n",
    "Sei un data scientist che lavora in una banca. Il tuo capo ha ricevuto la tabella compresa tra i tag <table> in cui è indicato il contributo ogni variabile alla previsione di un modello di classificazione (Il modello vuole prevedere il rischio di insolvenza di un prestito per un cliente).\n",
    "Non essendo una persona tecnica, ha bisogno che lo aiuti ad interpretare la tabella. \n",
    "Le informazioni che gli interessano sapere sono:\n",
    "- le caratteristiche principali del cliente\n",
    "- come si sta comportando il cliente\n",
    "- quale comportamento del cliente si può dedurre combinando il contributo di più variabili assieme \n",
    "\n",
    "Tieni a mente che un valore positivo di contributo indica che la variabile ha alzato il rischio di insolvenza; valori negativi indicano diminuzione del rischio mentre valori prossimi allo zero indicano scarsa influenza.\n",
    "Focalizzati sulle variabili con contributo assoluto maggiore.\n",
    "\n",
    "<table>\n",
    "{table}\n",
    "<table>\n",
    "\"\"\".format(table = mkd_table)\n",
    "\n",
    "print(prompt)"
   ]
  },
  {
   "cell_type": "code",
   "execution_count": null,
   "metadata": {},
   "outputs": [],
   "source": [
    "risp = base_llm.invoke(prompt).content\n",
    "print(risp)"
   ]
  },
  {
   "cell_type": "code",
   "execution_count": null,
   "metadata": {},
   "outputs": [],
   "source": [
    "prompt = \"\"\"\n",
    "Sei un data scientist che lavora in una banca. Il tuo capo ha ricevuto la tabella compresa tra i tag <table> in cui è indicato il contributo ogni variabile alla previsione di un modello di classificazione (Il modello vuole prevedere il rischio di insolvenza di un prestito per un cliente).\n",
    "Non essendo una persona tecnica, ha bisogno che lo aiuti ad interpretare la tabella. \n",
    "Ragiona per passi: individua le caratteristiche principali del cliente considerato e come queste si relazionano al rischio di insolvenza. Successivamente, combina quando dedotto e descrivi come si sta comportando il cliente.\n",
    "Concludi fornendo una spiegazione delle evidenze trovate giustificandole.\n",
    "\n",
    "Focalizzati sulle variabili con contributo assoluto maggiore.\n",
    "\n",
    "Tieni a mente che un valore positivo di contributo indica che la variabile ha alzato il rischio di insolvenza; valori negativi indicano diminuzione del rischio mentre valori prossimi allo zero indicano scarsa influenza.\n",
    "\n",
    "<table>\n",
    "{table}\n",
    "<table>\n",
    "\"\"\".format(table = mkd_table)\n",
    "\n",
    "\n",
    "print(prompt)"
   ]
  },
  {
   "cell_type": "code",
   "execution_count": null,
   "metadata": {},
   "outputs": [],
   "source": [
    "risp = base_llm.invoke(prompt).content\n",
    "print(risp)"
   ]
  },
  {
   "cell_type": "markdown",
   "metadata": {},
   "source": [
    "### PROMPT ANALISI"
   ]
  },
  {
   "cell_type": "code",
   "execution_count": null,
   "metadata": {},
   "outputs": [],
   "source": [
    "prompt = \"\"\"\n",
    "Sei un data scientist che lavora per una banca. La tabella compresa tra i tag <table> riporta il contributo, in termini di SHAP-value, di ogni variabile alla previsione di un tuo modello di classificazione.\n",
    "Ogni variabile rappresenta una caratteristica del comportamento di un cliente.\n",
    "\n",
    "Fornisci una spiegazione della previsione svolta dal modello, secondo il seguente schema:\n",
    "- Variabili più rilevanti che hanno influenzato positivamente la previsione (ordinamento descrescente).\n",
    "- Variabili più rilevanti che hanno influenzato negativamente la previsione (ordinamento crescente). \n",
    "- I comportamenti del cliente che si possono dedurre analizzando le variabili che hanno contribuito maggiormente.\n",
    "\n",
    "Concludi riassumendo le evidenze che hai trovato.\n",
    "\n",
    "Alcune note:\n",
    "- Previsione prositiva del modello indica cliente con alta rischiosità.\n",
    "- Utilizza i valori shap solo per identificare quali sono le variabili più rilevanti.\n",
    "- Il comportamento deve essere dedotto aggregando variabili di natura simile e rilevanti per il modello.\n",
    "- Nel costruire la risposta non fare riferimento ai valori shap.\n",
    "- La struttura del comportamento deve essere: dato che \"variabile A\" e \"variabile B\" sono positive allora il cliente ha questo comportamento.\n",
    "\n",
    "<table>\n",
    "{table}\n",
    "<table>\n",
    "\"\"\".format(table = mkd_table)\n",
    "\n",
    "\n",
    "print(prompt)"
   ]
  },
  {
   "cell_type": "code",
   "execution_count": null,
   "metadata": {},
   "outputs": [],
   "source": [
    "risp = base_llm.invoke(prompt).content\n",
    "print(risp)"
   ]
  },
  {
   "cell_type": "code",
   "execution_count": 54,
   "metadata": {},
   "outputs": [
    {
     "name": "stdout",
     "output_type": "stream",
     "text": [
      "\n",
      "Sei un data scientist che lavora per una banca. La tabella compresa tra i tag <table> riporta l'importanza di ogni variabile alla previsione di un tuo modello di rischiosità.\n",
      "Ogni variabile rappresenta una caratteristica del comportamento di un cliente. \n",
      "Spiega la previsione svolta dal modello secondo il seguente schema:\n",
      "\n",
      "[Variabili rilevanti]:\n",
      "- Lista variabili (massimo 10) con contributo positivo ordinate in maniera decrescente.\n",
      "- Lista variabili (massimo 10) con contributo negativo ordinate in maniera crescente.\n",
      "\n",
      "[Comportamento cliente]:\n",
      "Raggruppa le variabili rilevanti con natura simile e contributo coerente in gruppi. Nomina ciascun gruppo e spiega il significato del gruppo.\n",
      "- Nome: <Nome gruppo>\n",
      "- Tipologia: <contributo positivo o negativo>\n",
      "- Variabili: <Elenco variabili presenti>\n",
      "- Criterio: <Indica il criterio utilizzato per la costruzione del gruppo>\n",
      "\n",
      "[Conclusione]\n",
      "Utilizza i gruppi come fattori per spiegare la previsione del modello.\n",
      "\n",
      "<table>\n",
      "| Descrizione                                                                                                     |   importanza |\n",
      "|:----------------------------------------------------------------------------------------------------------------|-------------:|\n",
      "| Somma Utilizzato su Somma Accordato negli ultimi due mesi                                                       |        0.396 |\n",
      "| Media Giorni di Disponibilità CC negli ultimi tre mesi                                                          |        0.098 |\n",
      "| Somma Utilizzato su Somma Giacenza Minima negli ultimi due mesi                                                 |       -0.1   |\n",
      "| Media pesata per importo del massimo numero giorni di sconfino negli ultimi sei mesi                            |        0.257 |\n",
      "| Flag Massimo Importo Sconfino > 100 nell'ultimo mese - cliente + responsabilità limitata                        |        0.207 |\n",
      "| Massimo Numero di Rate Impagate negli ultimi tre mesi (altro rateali - non mutui)                               |       -0.07  |\n",
      "| Somma Importo Effetti Protestati + Richiamati su Importo Effetti Scaduti negli ultimi 3 mesi                    |        0.106 |\n",
      "| Somma Importo Effetti Trassati Insoluti su Importo Effetti Scaduti negli ultimi tre mesi                        |        0.322 |\n",
      "| utilizzo su accordato revoca snb                                                                                |        0.308 |\n",
      "| utilizzo su accordato autoliquidante snb                                                                        |        0.267 |\n",
      "| sconfino scadenza su margine scadenza                                                                           |       -0.002 |\n",
      "| utilizzato cassa su fatturato                                                                                   |       -0.033 |\n",
      "| factoring scaduto su (factoring pro solvendo + factoring pro soluto)                                            |       -0.022 |\n",
      "| sconfino medio revoca > 1000€                                                                                   |        0.183 |\n",
      "| utilizzo firma finanziaria su accordato firma finanziaria                                                       |        0.116 |\n",
      "| Copertura dell'indebitamento                                                                                    |        0.116 |\n",
      "| Debiti bancari su ricavi netti                                                                                  |        0.014 |\n",
      "| Valore debiti commerciali                                                                                       |        0.007 |\n",
      "| Liquidità su attivo netto                                                                                       |        0.046 |\n",
      "| Utile su ricavi                                                                                                 |        0.069 |\n",
      "| Livello di allerta complessivo, differenziato per Ateco, con soglie 0, 1, 3                                     |       -0.015 |\n",
      "| Regolarità mensile nel pagamento di prestiti e finanziamenti                                                    |       -0.001 |\n",
      "| Misura di movimentazione del conto, che considera sia il numero che gli importi dei movimenti di conto corrente |        0.174 |\n",
      "| Importo mediano della somma entrate settimanali delle ultime 52 settimane                                       |        0.092 |\n",
      "| PD media ufficiale nell’ultimo mese                                                                             |        0.261 |\n",
      "| Variazione tra il tasso di default previsto a 12 mesi e il tasso osservato nell’ultimo trimestre                |       -0.027 |\n",
      "<table>\n",
      "\n"
     ]
    }
   ],
   "source": [
    "prompt = \"\"\"\n",
    "Sei un data scientist che lavora per una banca. La tabella compresa tra i tag <table> riporta l'importanza di ogni variabile alla previsione di un tuo modello di rischiosità.\n",
    "Ogni variabile rappresenta una caratteristica del comportamento di un cliente. \n",
    "Spiega la previsione svolta dal modello secondo il seguente schema:\n",
    "\n",
    "[Variabili rilevanti]:\n",
    "- Lista variabili (massimo 10) con contributo positivo ordinate in maniera decrescente.\n",
    "- Lista variabili (massimo 10) con contributo negativo ordinate in maniera crescente.\n",
    "\n",
    "[Comportamento cliente]:\n",
    "Raggruppa le variabili rilevanti con natura simile e contributo coerente in gruppi. Nomina ciascun gruppo e spiega il significato del gruppo.\n",
    "- Nome: <Nome gruppo>\n",
    "- Tipologia: <contributo positivo o negativo>\n",
    "- Variabili: <Elenco variabili presenti>\n",
    "- Criterio: <Indica il criterio utilizzato per la costruzione del gruppo>\n",
    "\n",
    "[Conclusione]\n",
    "Utilizza i gruppi come fattori per spiegare la previsione del modello.\n",
    "\n",
    "<table>\n",
    "{table}\n",
    "<table>\n",
    "\"\"\".format(table = mkd_table)\n",
    "\n",
    "\n",
    "print(prompt)"
   ]
  },
  {
   "cell_type": "code",
   "execution_count": 55,
   "metadata": {},
   "outputs": [
    {
     "name": "stdout",
     "output_type": "stream",
     "text": [
      "[Variabili rilevanti]:\n",
      "\n",
      "Contributo positivo:\n",
      "1. Somma Utilizzato su Somma Accordato negli ultimi due mesi (0.396)\n",
      "2. Somma Importo Effetti Trassati Insoluti su Importo Effetti Scaduti negli ultimi tre mesi (0.322)\n",
      "3. utilizzo su accordato revoca snb (0.308)\n",
      "4. utilizzo su accordato autoliquidante snb (0.267)\n",
      "5. PD media ufficiale nell’ultimo mese (0.261)\n",
      "6. Media pesata per importo del massimo numero giorni di sconfino negli ultimi sei mesi (0.257)\n",
      "7. Flag Massimo Importo Sconfino > 100 nell'ultimo mese - cliente + responsabilità limitata (0.207)\n",
      "8. sconfino medio revoca > 1000€ (0.183)\n",
      "9. Misura di movimentazione del conto, che considera sia il numero che gli importi dei movimenti di conto corrente (0.174)\n",
      "10. utilizzo firma finanziaria su accordato firma finanziaria (0.116)\n",
      "\n",
      "Contributo negativo:\n",
      "1. Somma Utilizzato su Somma Giacenza Minima negli ultimi due mesi (-0.1)\n",
      "2. Massimo Numero di Rate Impagate negli ultimi tre mesi (altro rateali - non mutui) (-0.07)\n",
      "3. Variazione tra il tasso di default previsto a 12 mesi e il tasso osservato nell’ultimo trimestre (-0.027)\n",
      "4. factoring scaduto su (factoring pro solvendo + factoring pro soluto) (-0.022)\n",
      "5. Livello di allerta complessivo, differenziato per Ateco, con soglie 0, 1, 3 (-0.015)\n",
      "6. utilizzato cassa su fatturato (-0.033)\n",
      "7. Regolarità mensile nel pagamento di prestiti e finanziamenti (-0.001)\n",
      "8. sconfino scadenza su margine scadenza (-0.002)\n",
      "\n",
      "[Comportamento cliente]:\n",
      "\n",
      "Nome: Utilizzo del credito\n",
      "Tipologia: Contributo positivo\n",
      "Variabili: Somma Utilizzato su Somma Accordato negli ultimi due mesi, utilizzo su accordato revoca snb, utilizzo su accordato autoliquidante snb, utilizzo firma finanziaria su accordato firma finanziaria\n",
      "Criterio: Variabili che indicano l'utilizzo del credito da parte del cliente.\n",
      "\n",
      "Nome: Sconfino\n",
      "Tipologia: Contributo positivo\n",
      "Variabili: Media pesata per importo del massimo numero giorni di sconfino negli ultimi sei mesi, Flag Massimo Importo Sconfino > 100 nell'ultimo mese - cliente + responsabilità limitata, sconfino medio revoca > 1000€\n",
      "Criterio: Variabili che indicano il comportamento di sconfino del cliente.\n",
      "\n",
      "Nome: Indebitamento\n",
      "Tipologia: Contributo negativo\n",
      "Variabili: Somma Utilizzato su Somma Giacenza Minima negli ultimi due mesi, Massimo Numero di Rate Impagate negli ultimi tre mesi\n",
      "Criterio: Variabili che indicano un alto livello di indebitamento del cliente.\n",
      "\n",
      "Nome: Rischi finanziari\n",
      "Tipologia: Contributo negativo\n",
      "Variabili: Variazione tra il tasso di default previsto a 12 mesi e il tasso osservato nell’ultimo trimestre, Livello di allerta complessivo, differenziato per Ateco, con soglie 0, 1, 3\n",
      "Criterio: Variabili che indicano un alto livello di rischio finanziario associato al cliente.\n",
      "\n",
      "[Conclusione]\n",
      "Il modello predice la rischiosità del cliente basandosi principalmente sull'utilizzo del credito e sul comportamento di sconfino. Un utilizzo elevato del credito e un comportamento di sconfino frequente sono associati a un aumento della rischiosità. Al contrario, un alto livello di indebitamento e un alto livello di rischio finanziario sono associati a una diminuzione della rischiosità. Questo potrebbe indicare che i clienti con un alto livello di indebitamento e un alto livello di rischio finanziario sono più propensi a gestire attentamente le loro finanze, riducendo così la loro rischiosità.\n"
     ]
    }
   ],
   "source": [
    "risp = base_llm.invoke(prompt).content\n",
    "print(risp)"
   ]
  },
  {
   "cell_type": "code",
   "execution_count": 58,
   "metadata": {},
   "outputs": [
    {
     "name": "stdout",
     "output_type": "stream",
     "text": [
      "\n",
      "Sei un data scientist che lavora in una banca. Il tuo capo ha ricevuto la tabella compresa tra i tag <table> in cui è indicato il contributo ogni variabile alla previsione di un modello di classificazione (Il modello vuole prevedere il rischio di insolvenza di un prestito per un cliente).\n",
      "Non essendo una persona tecnica, ha bisogno che lo aiuti ad interpretare la tabella senza riferimenti ai numeri presenti. \n",
      "Ragiona per passi: \n",
      "- Elenca le variabili (massimo 10) con contributo positivo ordinate in maniera decrescente\n",
      "- Elenca le variabili (massimo 10) con contributo negativo ordinate in maniera crescente\n",
      "- Raggruppa le variabili rilevanti con natura simile e contributo coerente in gruppi. Nomina ciascun gruppo e spiega il significato del gruppo. Utilizza il seguente schema:\n",
      "    - Nome: <Nome gruppo>\n",
      "    - Tipologia: <contributo positivo o negativo>\n",
      "    - Variabili: <Elenco variabili presenti>\n",
      "    - Criterio: <Indica il criterio utilizzato per la costruzione del gruppo>\n",
      "- Concludi riportando quali gruppi hanno alzato o diminuto il rischio di insolvenza ipotizzando il comportamento avuto dal cliente.\n",
      "\n",
      "Tieni a mente che un valore positivo di contributo indica che la variabile ha alzato il rischio di insolvenza; valori negativi indicano diminuzione del rischio mentre valori prossimi allo zero indicano scarsa influenza.\n",
      "\n",
      "<table>\n",
      "\n",
      "| Descrizione                                                                                                     |   importanza |\n",
      "|:----------------------------------------------------------------------------------------------------------------|-------------:|\n",
      "| Somma Utilizzato su Somma Accordato negli ultimi due mesi                                                       |        0.396 |\n",
      "| Media Giorni di Disponibilità CC negli ultimi tre mesi                                                          |        0.098 |\n",
      "| Somma Utilizzato su Somma Giacenza Minima negli ultimi due mesi                                                 |       -0.1   |\n",
      "| Media pesata per importo del massimo numero giorni di sconfino negli ultimi sei mesi                            |        0.257 |\n",
      "| Flag Massimo Importo Sconfino > 100 nell'ultimo mese - cliente + responsabilità limitata                        |        0.207 |\n",
      "| Massimo Numero di Rate Impagate negli ultimi tre mesi (altro rateali - non mutui)                               |       -0.07  |\n",
      "| Somma Importo Effetti Protestati + Richiamati su Importo Effetti Scaduti negli ultimi 3 mesi                    |        0.106 |\n",
      "| Somma Importo Effetti Trassati Insoluti su Importo Effetti Scaduti negli ultimi tre mesi                        |        0.322 |\n",
      "| utilizzo su accordato revoca snb                                                                                |        0.308 |\n",
      "| utilizzo su accordato autoliquidante snb                                                                        |        0.267 |\n",
      "| sconfino scadenza su margine scadenza                                                                           |       -0.002 |\n",
      "| utilizzato cassa su fatturato                                                                                   |       -0.033 |\n",
      "| factoring scaduto su (factoring pro solvendo + factoring pro soluto)                                            |       -0.022 |\n",
      "| sconfino medio revoca > 1000€                                                                                   |        0.183 |\n",
      "| utilizzo firma finanziaria su accordato firma finanziaria                                                       |        0.116 |\n",
      "| Copertura dell'indebitamento                                                                                    |        0.116 |\n",
      "| Debiti bancari su ricavi netti                                                                                  |        0.014 |\n",
      "| Valore debiti commerciali                                                                                       |        0.007 |\n",
      "| Liquidità su attivo netto                                                                                       |        0.046 |\n",
      "| Utile su ricavi                                                                                                 |        0.069 |\n",
      "| Livello di allerta complessivo, differenziato per Ateco, con soglie 0, 1, 3                                     |       -0.015 |\n",
      "| Regolarità mensile nel pagamento di prestiti e finanziamenti                                                    |       -0.001 |\n",
      "| Misura di movimentazione del conto, che considera sia il numero che gli importi dei movimenti di conto corrente |        0.174 |\n",
      "| Importo mediano della somma entrate settimanali delle ultime 52 settimane                                       |        0.092 |\n",
      "| PD media ufficiale nell’ultimo mese                                                                             |        0.261 |\n",
      "| Variazione tra il tasso di default previsto a 12 mesi e il tasso osservato nell’ultimo trimestre                |       -0.027 |\n",
      "\n",
      "<table>\n",
      "\n"
     ]
    }
   ],
   "source": [
    "prompt = \"\"\"\n",
    "Sei un data scientist che lavora in una banca. Il tuo capo ha ricevuto la tabella compresa tra i tag <table> in cui è indicato il contributo ogni variabile alla previsione di un modello di classificazione (Il modello vuole prevedere il rischio di insolvenza di un prestito per un cliente).\n",
    "Non essendo una persona tecnica, ha bisogno che lo aiuti ad interpretare la tabella senza riferimenti ai numeri presenti. \n",
    "Ragiona per passi: \n",
    "- Elenca le variabili (massimo 10) con contributo positivo ordinate in maniera decrescente\n",
    "- Elenca le variabili (massimo 10) con contributo negativo ordinate in maniera crescente\n",
    "- Raggruppa le variabili rilevanti con natura simile e contributo coerente in gruppi. Nomina ciascun gruppo e spiega il significato del gruppo. Utilizza il seguente schema:\n",
    "    - Nome: <Nome gruppo>\n",
    "    - Tipologia: <contributo positivo o negativo>\n",
    "    - Variabili: <Elenco variabili presenti>\n",
    "    - Criterio: <Indica il criterio utilizzato per la costruzione del gruppo>\n",
    "- Concludi riportando quali gruppi hanno alzato o diminuto il rischio di insolvenza ipotizzando il comportamento avuto dal cliente.\n",
    "\n",
    "Tieni a mente che un valore positivo di contributo indica che la variabile ha alzato il rischio di insolvenza; valori negativi indicano diminuzione del rischio mentre valori prossimi allo zero indicano scarsa influenza.\n",
    "\n",
    "<table>\n",
    "\n",
    "{table}\n",
    "\n",
    "<table>\n",
    "\"\"\".format(table = mkd_table)\n",
    "\n",
    "\n",
    "print(prompt)"
   ]
  },
  {
   "cell_type": "code",
   "execution_count": 59,
   "metadata": {},
   "outputs": [
    {
     "name": "stdout",
     "output_type": "stream",
     "text": [
      "Ecco un'interpretazione della tabella senza riferimenti ai numeri:\n",
      "\n",
      "- Le variabili con contributo positivo, ordinate in maniera decrescente, sono:\n",
      "    1. Somma Utilizzato su Somma Accordato negli ultimi due mesi\n",
      "    2. Media pesata per importo del massimo numero giorni di sconfino negli ultimi sei mesi\n",
      "    3. Somma Importo Effetti Trassati Insoluti su Importo Effetti Scaduti negli ultimi tre mesi\n",
      "    4. utilizzo su accordato revoca snb\n",
      "    5. utilizzo su accordato autoliquidante snb\n",
      "    6. Flag Massimo Importo Sconfino > 100 nell'ultimo mese - cliente + responsabilità limitata\n",
      "    7. sconfino medio revoca > 1000€\n",
      "    8. utilizzo firma finanziaria su accordato firma finanziaria\n",
      "    9. Copertura dell'indebitamento\n",
      "    10. Somma Importo Effetti Protestati + Richiamati su Importo Effetti Scaduti negli ultimi 3 mesi\n",
      "\n",
      "- Le variabili con contributo negativo, ordinate in maniera crescente, sono:\n",
      "    1. Somma Utilizzato su Somma Giacenza Minima negli ultimi due mesi\n",
      "    2. Massimo Numero di Rate Impagate negli ultimi tre mesi (altro rateali - non mutui)\n",
      "    3. factoring scaduto su (factoring pro solvendo + factoring pro soluto)\n",
      "    4. utilizzato cassa su fatturato\n",
      "    5. Variazione tra il tasso di default previsto a 12 mesi e il tasso osservato nell’ultimo trimestre\n",
      "    6. Livello di allerta complessivo, differenziato per Ateco, con soglie 0, 1, 3\n",
      "    7. sconfino scadenza su margine scadenza\n",
      "    8. Regolarità mensile nel pagamento di prestiti e finanziamenti\n",
      "\n",
      "- Raggruppamento delle variabili rilevanti con natura simile e contributo coerente in gruppi:\n",
      "\n",
      "    - Nome: Utilizzo del credito\n",
      "    - Tipologia: contributo positivo\n",
      "    - Variabili: Somma Utilizzato su Somma Accordato negli ultimi due mesi, utilizzo su accordato revoca snb, utilizzo su accordato autoliquidante snb, utilizzo firma finanziaria su accordato firma finanziaria\n",
      "    - Criterio: Queste variabili riguardano l'uso del credito da parte del cliente.\n",
      "\n",
      "    - Nome: Sconfino\n",
      "    - Tipologia: contributo positivo\n",
      "    - Variabili: Media pesata per importo del massimo numero giorni di sconfino negli ultimi sei mesi, Flag Massimo Importo Sconfino > 100 nell'ultimo mese - cliente + responsabilità limitata, sconfino medio revoca > 1000€\n",
      "    - Criterio: Queste variabili riguardano il superamento del limite di credito da parte del cliente.\n",
      "\n",
      "    - Nome: Pagamenti irregolari\n",
      "    - Tipologia: contributo negativo\n",
      "    - Variabili: Somma Utilizzato su Somma Giacenza Minima negli ultimi due mesi, Massimo Numero di Rate Impagate negli ultimi tre mesi (altro rateali - non mutui)\n",
      "    - Criterio: Queste variabili riguardano i pagamenti irregolari o mancati da parte del cliente.\n",
      "\n",
      "In conclusione, i gruppi che hanno alzato il rischio di insolvenza sono \"Utilizzo del credito\" e \"Sconfino\", che indicano un uso eccessivo del credito e il superamento dei limiti di credito. Il gruppo \"Pagamenti irregolari\" ha invece diminuito il rischio di insolvenza, indicando che i clienti con pagamenti irregolari o mancati sono meno propensi a diventare insolventi.\n"
     ]
    }
   ],
   "source": [
    "risp = base_llm.invoke(prompt).content\n",
    "print(risp)"
   ]
  }
 ],
 "metadata": {
  "kernelspec": {
   "display_name": "bper_venv",
   "language": "python",
   "name": "python3"
  },
  "language_info": {
   "codemirror_mode": {
    "name": "ipython",
    "version": 3
   },
   "file_extension": ".py",
   "mimetype": "text/x-python",
   "name": "python",
   "nbconvert_exporter": "python",
   "pygments_lexer": "ipython3",
   "version": "3.10.13"
  }
 },
 "nbformat": 4,
 "nbformat_minor": 2
}
