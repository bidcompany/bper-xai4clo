{
 "cells": [
  {
   "cell_type": "code",
   "execution_count": 1,
   "metadata": {},
   "outputs": [],
   "source": [
    "import os\n",
    "import sys\n",
    "from dotenv import load_dotenv\n",
    "from sklearn.linear_model import LogisticRegression\n",
    "import pandas as pd\n",
    "import numpy as np\n",
    "import pickle\n",
    "import codecs\n",
    "\n",
    "scripts_path = os.getcwd()\n",
    "env_file_path = os.path.join(scripts_path, 'env.txt')\n",
    "load_dotenv(env_file_path)\n",
    "main_path = os.getenv(\"MAIN_PATH\")\n",
    "\n",
    "sys.path.append(main_path)\n",
    "data_path = os.path.join(main_path, 'data')\n",
    "models_path = os.path.join(main_path, 'models','DS06G_XXcoefficientiModelli')\n",
    "models_xgb_path = os.path.join(main_path, 'models','DS06B_XXmodelCorporate')"
   ]
  },
  {
   "cell_type": "code",
   "execution_count": 3,
   "metadata": {},
   "outputs": [],
   "source": [
    "samples_file = os.path.join(data_path, 'EW_BusinessXai_v2.xlsx')\n",
    "samples = pd.read_excel(samples_file, sheet_name = 'EW_MODULI_SCORE_CORPORATE')\n",
    "scores = pd.read_excel(samples_file, sheet_name = 'EW_SCORE_CORPORATE').set_index('ID')\n",
    "kpi_map = pd.read_excel(os.path.join(data_path, 'mapping descrizioni KPI_v6.1.xlsx'))\n",
    "\n",
    "kpi_map = kpi_map.rename(columns={'ID':'KPI'})\n",
    "kpi_map = kpi_map[kpi_map.NOME_COLONNA_OUTPUT=='VALORE'].drop(['TIPOLOGIA_OUTPUT','COL_TO_TRANSPOSE','VALUE','CONSTANT_TO_ADD','TO_DROP','DESCRIZIONE','DATA_INIZIO_VALIDITA','DATA_FINE_VALIDITA'], axis = 1)\n",
    "kpi_map = kpi_map[(kpi_map.KPI.isin(samples.KPI_CD.unique()))].drop(['NOME_COLONNA_OUTPUT', 'TABELLA'], axis = 1)\n",
    "kpi_map = samples.loc[:,['MODULO_DS', 'KPI_CD']].drop_duplicates().set_index('KPI_CD').join(kpi_map.set_index('KPI')).reset_index().rename(columns={'KPI_CD':'KPI'})\n",
    "\n",
    "data = samples.pivot(index = 'ID', columns = 'KPI_CD', values='VALORE_QT')\n",
    "\n",
    "descriptions = pd.read_excel(os.path.join(data_path, 'logit_weights.xlsx'), sheet_name='weights')\n",
    "descriptions = descriptions.set_index('Variabile').join(kpi_map.drop('MODULO_DS', axis=1).set_index('CAMPO'), how = 'inner').reset_index().sort_values(['MODELLO','MODULO_DS']).set_index('KPI')\n",
    "kpi_descriptions = descriptions.loc[:,'Descrizione'].to_dict()\n",
    "kpi_name = descriptions.loc[descriptions.index.dropna(),'Variabile'].to_dict()\n",
    "name_kpi = {name:kpi for kpi,name in kpi_name.items()}\n",
    "\n",
    "integration_cols = ['PD_MEDIA_UFFICIALE_M1_QT','PREVISIONE_WORST_QT']\n",
    "integration_data = scores.loc[:,integration_cols].rename(columns = {'PD_MEDIA_UFFICIALE_M1_QT':'binned_PD_MEDIA_UFFICIALE_M1','PREVISIONE_WORST_QT':'binned_VAR_PREVISIONE_4_0_base_oss'})"
   ]
  },
  {
   "cell_type": "code",
   "execution_count": 4,
   "metadata": {},
   "outputs": [],
   "source": [
    "slicer = pd.IndexSlice\n",
    "parquet_files = os.listdir(models_path)[:-1]\n",
    "models = pd.concat([pd.read_parquet(os.path.join(models_path, pqt_file)) for pqt_file in parquet_files]).reset_index(drop = True)\n",
    "models['value_type'] = models.apply(lambda x: x.NAME.split('_')[0], axis = 1)"
   ]
  },
  {
   "cell_type": "code",
   "execution_count": 5,
   "metadata": {},
   "outputs": [
    {
     "name": "stderr",
     "output_type": "stream",
     "text": [
      "C:\\Users\\GiorgioBarazzetta\\AppData\\Local\\Temp\\ipykernel_26536\\3230101557.py:5: SettingWithCopyWarning: \n",
      "A value is trying to be set on a copy of a slice from a DataFrame.\n",
      "Try using .loc[row_indexer,col_indexer] = value instead\n",
      "\n",
      "See the caveats in the documentation: https://pandas.pydata.org/pandas-docs/stable/user_guide/indexing.html#returning-a-view-versus-a-copy\n",
      "  medie_corporate['NAME'] = medie_corporate.NAME.str.replace('media_','')\n"
     ]
    }
   ],
   "source": [
    "## CONSIDERO CORPORATE\n",
    "models_corporate = models[models.MODELLO == 'Corporate']\n",
    "\n",
    "medie_corporate = models_corporate[models_corporate.value_type == 'media']\n",
    "medie_corporate['NAME'] = medie_corporate.NAME.str.replace('media_','')\n",
    "pivot_medie_corporate = medie_corporate.pivot(index = ['MODELLO','MODULO','NAME'], values='VALUE', columns='value_type')\n",
    "\n",
    "models_features_corporate = models_corporate.drop(medie_corporate.index).set_index(['MODELLO','MODULO','NAME'])\n",
    "\n",
    "logit_models_corporate = models_features_corporate.join(pivot_medie_corporate, how = 'left').loc[slicer['Corporate',['ANDAMENTALE_INTERNO','BILANCI','CR','INTEGRAZIONE_SCORE_MODULI', 'INTEGRAZIONE_INFO']], :]\n",
    "logit_models_corporate = logit_models_corporate.droplevel(0)"
   ]
  },
  {
   "cell_type": "code",
   "execution_count": 6,
   "metadata": {},
   "outputs": [
    {
     "name": "stderr",
     "output_type": "stream",
     "text": [
      "IProgress not found. Please update jupyter and ipywidgets. See https://ipywidgets.readthedocs.io/en/stable/user_install.html\n"
     ]
    }
   ],
   "source": [
    "import shap\n",
    "\n",
    "class XGBoost:\n",
    "    def __init__(self, df):\n",
    "        modelpickle = df['model'].iloc[0]\n",
    "        model = pickle.loads(codecs.decode(modelpickle.encode(), \"base64\"))\n",
    "        self.output_function = model\n",
    "    \n",
    "    def predict(self, X):\n",
    "        pred = self.output_function.predict_proba(X)[:,1]\n",
    "        pred = pd.Series(pred, index = X.index)\n",
    "        return pred\n",
    "    \n",
    "    def explain(self, X):\n",
    "        explainer = shap.TreeExplainer(model=self.output_function)\n",
    "        explanations = explainer.shap_values(X.values)\n",
    "        explanations = pd.DataFrame(explanations, columns=X.columns, index = X.index)\n",
    "        return explanations\n",
    "\n",
    "\n",
    "\n",
    "class Logit:\n",
    "    def __init__(self, betas, intercept, averages):\n",
    "        self.betas = betas\n",
    "        self.intercept = intercept\n",
    "        self.averages = averages\n",
    "    \n",
    "    def predict(self, X):\n",
    "        log_odds_ratio  = X.transpose().apply(lambda x: (x*self.betas).sum()).dropna() + self.intercept\n",
    "        # pred = log_odds_ratio.apply(lambda x: 1/(1+np.exp(-1*x)))\n",
    "        return log_odds_ratio\n",
    "    \n",
    "    def explain(self, X):\n",
    "        explanations = X.transpose().apply(lambda x: (x - self.averages)*self.betas).dropna().transpose()\n",
    "        return explanations\n",
    "    \n",
    "    def predict_proba(self,X):\n",
    "        log_odds_ratio = self.predict(X)\n",
    "        pred = log_odds_ratio.apply(lambda x: 1/(1+np.exp(-1*x)))\n",
    "        return pred\n",
    "\n",
    "class Binner:\n",
    "    def __init__(self, table):\n",
    "        tables_rows = list(table.itertuples(index = False, name = None))\n",
    "        self.bins_mapper = {pd.IntervalIndex.from_tuples([(x[0], x[1])], closed='left')[0]: x[2] for x in tables_rows}\n",
    "        self.bins = pd.IntervalIndex.from_tuples([(x[0], x[1]) for x in tables_rows], closed = 'left')\n",
    "    \n",
    "    def transform(self, X):\n",
    "        binned_X = pd.Series(pd.cut(X.values.reshape(-1), self.bins), index = X.index).replace(self.bins_mapper).astype(float)\n",
    "        return binned_X"
   ]
  },
  {
   "cell_type": "code",
   "execution_count": 7,
   "metadata": {},
   "outputs": [],
   "source": [
    "transformation_path = os.path.join(main_path, 'models','DS06G_XX0BinnedScoresCorp')\n",
    "transformation_files = os.listdir(transformation_path)[:-1]\n",
    "transformation = pd.concat([pd.read_parquet(os.path.join(transformation_path, pqt_file)) for pqt_file in transformation_files]).reset_index(drop = True)\n",
    "transformation = transformation.rename(columns = {'feature':'MODULO'})\n",
    "map_score = {'score_bil':'BILANCI', 'score_AI': 'ANDAMENTALE_INTERNO', 'score_cr':'CR', 'score_trans': 'TRANSAZIONALE'}\n",
    "transformation = transformation.replace(map_score)"
   ]
  },
  {
   "cell_type": "code",
   "execution_count": 8,
   "metadata": {},
   "outputs": [],
   "source": [
    "contribs = []\n",
    "pc_contribs = []\n",
    "preds = []\n",
    "binned_preds = []\n",
    "renamed_data = data.rename(columns=kpi_name)\n",
    "binned_score_map = {'BILANCI': 'binned_score_bil', \n",
    "                    'ANDAMENTALE_INTERNO': 'binned_score_AI', \n",
    "                    'CR': 'binned_score_cr', \n",
    "                    'TRANSAZIONALE':'binned_score_trans' }\n",
    "\n",
    "for modulo in ['ANDAMENTALE_INTERNO', 'BILANCI', 'CR']:\n",
    "    intercept = logit_models_corporate.loc[slicer[modulo, 'intercetta'], 'VALUE']\n",
    "    betas = logit_models_corporate.loc[slicer[modulo], 'VALUE'].drop('intercetta')\n",
    "    averages = logit_models_corporate.loc[slicer[modulo], 'media'].dropna()\n",
    "    model = Logit(betas, intercept, averages)\n",
    "\n",
    "    explanations = model.explain(renamed_data)\n",
    "    explanations.columns = pd.MultiIndex.from_product([[binned_score_map[modulo]], explanations.columns])\n",
    "    pc_explanations = (explanations.transpose()/explanations.sum(1)).transpose()\n",
    "\n",
    "    predictions = model.predict(renamed_data)\n",
    "\n",
    "    current_transformation = transformation[transformation.MODULO == modulo].iloc[:,1:4]\n",
    "    binned_predictions = Binner(current_transformation).transform(predictions)\n",
    "\n",
    "    contribs += [explanations]\n",
    "    pc_contribs += [pc_explanations]\n",
    "    preds += [predictions.to_frame(modulo)]\n",
    "    binned_preds += [binned_predictions.to_frame(binned_score_map[modulo])]\n",
    "\n",
    "\n",
    "\n",
    "## TRANSAZIONALE\n",
    "trans_features = kpi_map[kpi_map['MODULO_DS'] == 'Transazionale'].CAMPO.values.tolist()\n",
    "trans_data = renamed_data.loc[:, trans_features]\n",
    "files = os.listdir(models_xgb_path)[:-1]\n",
    "pd_xgb_model = pd.read_parquet(os.path.join(models_xgb_path, files[0]))\n",
    "xgboost_model = XGBoost(pd_xgb_model)\n",
    "\n",
    "trans_explanations = xgboost_model.explain(trans_data)\n",
    "trans_explanations.columns = pd.MultiIndex.from_product([[binned_score_map['TRANSAZIONALE']], trans_explanations.columns])\n",
    "pc_trans_explanations = (trans_explanations.transpose()/trans_explanations.sum(1)).transpose()\n",
    "\n",
    "trans_preds = xgboost_model.predict(trans_data)\n",
    "\n",
    "current_transformation = transformation[transformation.MODULO == 'TRANSAZIONALE'].iloc[:,1:4]\n",
    "trans_binned_predictions =  Binner(current_transformation).transform(trans_preds)\n",
    "\n",
    "contribs += [trans_explanations]\n",
    "pc_contribs += [pc_trans_explanations]\n",
    "preds += [trans_preds.to_frame('TRANSAZIONALE')]\n",
    "binned_preds += [trans_binned_predictions.to_frame(binned_score_map['TRANSAZIONALE'])]\n",
    "\n",
    "contribs = pd.concat(contribs, axis = 1)\n",
    "pc_contribs = pd.concat(pc_contribs, axis = 1)\n",
    "preds = pd.concat(preds, axis = 1)\n",
    "binned_preds = pd.concat(binned_preds, axis = 1)\n",
    "\n",
    "\n",
    "## INTEGRAZIONE SCORE MODULI\n",
    "intercept_integrated = logit_models_corporate.loc[slicer['INTEGRAZIONE_SCORE_MODULI', 'intercetta'], 'VALUE']\n",
    "betas_integrated = logit_models_corporate.loc[slicer['INTEGRAZIONE_SCORE_MODULI'], 'VALUE'].drop('intercetta')\n",
    "averages_integrated = logit_models_corporate.loc[slicer['INTEGRAZIONE_SCORE_MODULI'], 'media'].dropna()\n",
    "model_integrated = Logit(betas_integrated, intercept_integrated, averages_integrated)\n",
    "\n",
    "explanations_integrated = model_integrated.explain(binned_preds)\n",
    "predictions_integrated = model_integrated.predict(binned_preds).to_frame('score_integrated')\n",
    "\n",
    "## INTEGRAZIONE INFO\n",
    "intercept_ew = logit_models_corporate.loc[slicer['INTEGRAZIONE_INFO', 'intercetta'], 'VALUE']\n",
    "betas_ew = logit_models_corporate.loc[slicer['INTEGRAZIONE_INFO'], 'VALUE'].drop('intercetta')\n",
    "averages_ew = logit_models_corporate.loc[slicer['INTEGRAZIONE_INFO'], 'media'].dropna()\n",
    "model_ew = Logit(betas_ew, intercept_ew, averages_ew)\n",
    "\n",
    "ew_dataset = pd.concat([predictions_integrated, integration_data],axis = 1)\n",
    "\n",
    "explanations_ew = model_ew.explain(ew_dataset)\n",
    "predictions_ew = model_ew.predict(ew_dataset).to_frame('score_ew')\n",
    "proba_ew = model_ew.predict_proba(ew_dataset)\n",
    "\n",
    "### BACKWARD CONTRIBUTIONS\n",
    "scores_to_ew_contributions = betas_ew.loc['score_integrated']*explanations_integrated\n",
    "features_to_scores = pc_contribs.apply(lambda x: x.transpose()*scores_to_ew_contributions.loc[:,x.name[0]].transpose())\n",
    "explanations_integration = explanations_ew.loc[:,integration_data.columns]\n",
    "explanations_integration.columns = pd.MultiIndex.from_product([['INTEGRAZIONE_INFO'], explanations_integration.columns])\n",
    "features_to_scores = pd.concat([features_to_scores, explanations_integration], axis = 1)"
   ]
  },
  {
   "cell_type": "code",
   "execution_count": null,
   "metadata": {},
   "outputs": [],
   "source": [
    "### save\n",
    "explanations_ew.columns = pd.MultiIndex.from_product([['INTEGRAZIONE_INFO'],explanations_ew.columns])\n",
    "explanations_integrated.columns = pd.MultiIndex.from_product([['INTEGRAZIONE_SCORE_MODULI'],explanations_integrated.columns])\n",
    "expl = pd.concat([\n",
    "    contribs.melt(ignore_index=False, var_name=['modulo','variable_name']),\n",
    "    explanations_ew.melt(ignore_index=False, var_name=['modulo','variable_name']),\n",
    "    explanations_integrated.melt(ignore_index=False, var_name=['modulo','variable_name'])\n",
    "])\n",
    "# writer = pd.ExcelWriter(os.path.join(data_path,'example.xlsx'))\n",
    "# expl.to_excel(writer, sheet_name = 'contribs')\n"
   ]
  },
  {
   "cell_type": "markdown",
   "metadata": {},
   "source": [
    "### INTERPRETAZIONE RISULTATI"
   ]
  },
  {
   "cell_type": "code",
   "execution_count": 9,
   "metadata": {},
   "outputs": [
    {
     "name": "stderr",
     "output_type": "stream",
     "text": [
      "The class `langchain_community.chat_models.openai.ChatOpenAI` was deprecated in langchain-community 0.0.10 and will be removed in 0.2.0. An updated version of the class exists in the langchain-openai package and should be used instead. To use it run `pip install -U langchain-openai` and import as `from langchain_openai import ChatOpenAI`.\n"
     ]
    }
   ],
   "source": [
    "from langchain.chat_models import ChatOpenAI\n",
    "from langchain.chains import LLMChain\n",
    "from langchain.prompts import PromptTemplate\n",
    "import openai\n",
    "\n",
    "base_llm = ChatOpenAI(model=\"gpt-4\", temperature = 0, openai_api_key= os.environ.get('OPENAI_API_KEY'))"
   ]
  },
  {
   "cell_type": "code",
   "execution_count": 62,
   "metadata": {},
   "outputs": [
    {
     "data": {
      "text/html": [
       "<div>\n",
       "<style scoped>\n",
       "    .dataframe tbody tr th:only-of-type {\n",
       "        vertical-align: middle;\n",
       "    }\n",
       "\n",
       "    .dataframe tbody tr th {\n",
       "        vertical-align: top;\n",
       "    }\n",
       "\n",
       "    .dataframe thead th {\n",
       "        text-align: right;\n",
       "    }\n",
       "</style>\n",
       "<table border=\"1\" class=\"dataframe\">\n",
       "  <thead>\n",
       "    <tr style=\"text-align: right;\">\n",
       "      <th>ID</th>\n",
       "      <th>1</th>\n",
       "      <th>2</th>\n",
       "    </tr>\n",
       "  </thead>\n",
       "  <tbody>\n",
       "    <tr>\n",
       "      <th>INTEGRAZIONE_INFO</th>\n",
       "      <td>0.234379</td>\n",
       "      <td>0.234379</td>\n",
       "    </tr>\n",
       "    <tr>\n",
       "      <th>binned_score_AI</th>\n",
       "      <td>1.217400</td>\n",
       "      <td>1.217400</td>\n",
       "    </tr>\n",
       "    <tr>\n",
       "      <th>binned_score_bil</th>\n",
       "      <td>0.237929</td>\n",
       "      <td>0.237929</td>\n",
       "    </tr>\n",
       "    <tr>\n",
       "      <th>binned_score_cr</th>\n",
       "      <td>0.818009</td>\n",
       "      <td>0.818009</td>\n",
       "    </tr>\n",
       "    <tr>\n",
       "      <th>binned_score_trans</th>\n",
       "      <td>0.265731</td>\n",
       "      <td>0.265731</td>\n",
       "    </tr>\n",
       "  </tbody>\n",
       "</table>\n",
       "</div>"
      ],
      "text/plain": [
       "ID                         1         2\n",
       "INTEGRAZIONE_INFO   0.234379  0.234379\n",
       "binned_score_AI     1.217400  1.217400\n",
       "binned_score_bil    0.237929  0.237929\n",
       "binned_score_cr     0.818009  0.818009\n",
       "binned_score_trans  0.265731  0.265731"
      ]
     },
     "execution_count": 62,
     "metadata": {},
     "output_type": "execute_result"
    }
   ],
   "source": [
    "features_to_scores.transpose().groupby(level = 0).sum()"
   ]
  },
  {
   "cell_type": "code",
   "execution_count": 58,
   "metadata": {},
   "outputs": [
    {
     "data": {
      "text/html": [
       "<div>\n",
       "<style scoped>\n",
       "    .dataframe tbody tr th:only-of-type {\n",
       "        vertical-align: middle;\n",
       "    }\n",
       "\n",
       "    .dataframe tbody tr th {\n",
       "        vertical-align: top;\n",
       "    }\n",
       "\n",
       "    .dataframe thead th {\n",
       "        text-align: right;\n",
       "    }\n",
       "</style>\n",
       "<table border=\"1\" class=\"dataframe\">\n",
       "  <thead>\n",
       "    <tr style=\"text-align: right;\">\n",
       "      <th></th>\n",
       "      <th>binned_score_AI</th>\n",
       "      <th>binned_score_bil</th>\n",
       "      <th>binned_score_cr</th>\n",
       "      <th>binned_score_trans</th>\n",
       "    </tr>\n",
       "    <tr>\n",
       "      <th>ID</th>\n",
       "      <th></th>\n",
       "      <th></th>\n",
       "      <th></th>\n",
       "      <th></th>\n",
       "    </tr>\n",
       "  </thead>\n",
       "  <tbody>\n",
       "    <tr>\n",
       "      <th>1</th>\n",
       "      <td>1.2174</td>\n",
       "      <td>0.237929</td>\n",
       "      <td>0.818009</td>\n",
       "      <td>0.265731</td>\n",
       "    </tr>\n",
       "    <tr>\n",
       "      <th>2</th>\n",
       "      <td>1.2174</td>\n",
       "      <td>0.237929</td>\n",
       "      <td>0.818009</td>\n",
       "      <td>0.265731</td>\n",
       "    </tr>\n",
       "  </tbody>\n",
       "</table>\n",
       "</div>"
      ],
      "text/plain": [
       "    binned_score_AI  binned_score_bil  binned_score_cr  binned_score_trans\n",
       "ID                                                                        \n",
       "1            1.2174          0.237929         0.818009            0.265731\n",
       "2            1.2174          0.237929         0.818009            0.265731"
      ]
     },
     "execution_count": 58,
     "metadata": {},
     "output_type": "execute_result"
    }
   ],
   "source": [
    "scores_to_ew_contributions"
   ]
  },
  {
   "cell_type": "code",
   "execution_count": 56,
   "metadata": {},
   "outputs": [
    {
     "data": {
      "text/plain": [
       "NAME\n",
       "score_integrated                      0.925160\n",
       "binned_PD_MEDIA_UFFICIALE_M1         -0.193576\n",
       "binned_VAR_PREVISIONE_4_0_base_oss   -0.956618\n",
       "Name: VALUE, dtype: float64"
      ]
     },
     "execution_count": 56,
     "metadata": {},
     "output_type": "execute_result"
    }
   ],
   "source": []
  },
  {
   "cell_type": "code",
   "execution_count": 65,
   "metadata": {},
   "outputs": [],
   "source": [
    "variables_desc = pd.read_excel(os.path.join(data_path, 'logit_weights.xlsx'), sheet_name='weights')\n",
    "desc = variables_desc[(variables_desc.MODULO_DS!='Integrazione') & (-variables_desc.Variabile.isin(['intercept','Intercept','score_integrated']))].loc[:,['Variabile','Descrizione']].set_index('Variabile').join(features_to_scores.round(3).loc[1].droplevel(0).to_frame('SHAP_values'))\n",
    "mkd_table = desc.reset_index().drop('Variabile', axis = 1).to_markdown(index=False)"
   ]
  },
  {
   "cell_type": "code",
   "execution_count": 29,
   "metadata": {},
   "outputs": [],
   "source": [
    "variables_listed = ' '.join(descriptions.loc[:, ['Variabile','Descrizione']].apply(lambda x: '\\n -' +' : '.join(x.tolist()), axis = 1).values.tolist())"
   ]
  },
  {
   "cell_type": "code",
   "execution_count": 78,
   "metadata": {},
   "outputs": [],
   "source": [
    "prompt = \"\"\"\n",
    "Sei un data scientist che lavora per una banca. La tabella compresa tra i tag <table> riporta il contributo, in termini di SHAP-value, di ogni variabile alla previsione di un tuo modello di classificazione.\n",
    "Ogni variabile rappresenta una caratteristica del comportamento di un cliente.\n",
    "Fornisci una spiegazione della previsione svolta dal modello cercando di dedurre il comportamento del cliente.\n",
    "Concentrati sulle variabili che hanno influenzato maggiormente la previsione.\n",
    "\n",
    "<table>\n",
    "{table}\n",
    "<table>\n",
    "\"\"\".format(table = mkd_table)"
   ]
  },
  {
   "cell_type": "code",
   "execution_count": 79,
   "metadata": {},
   "outputs": [
    {
     "name": "stdout",
     "output_type": "stream",
     "text": [
      "\n",
      "Sei un data scientist che lavora per una banca. La tabella compresa tra i tag <table> riporta il contributo, in termini di SHAP-value, di ogni variabile alla previsione di un tuo modello di classificazione.\n",
      "Ogni variabile rappresenta una caratteristica del comportamento di un cliente.\n",
      "Fornisci una spiegazione della previsione svolta dal modello cercando di dedurre il comportamento del cliente.\n",
      "Concentrati sulle variabili che hanno influenzato maggiormente la previsione.\n",
      "\n",
      "<table>\n",
      "| Descrizione                                                                                                     |   SHAP_values |\n",
      "|:----------------------------------------------------------------------------------------------------------------|--------------:|\n",
      "| Somma Utilizzato su Somma Accordato negli ultimi due mesi                                                       |         0.396 |\n",
      "| Media Giorni di Disponibilità CC negli ultimi tre mesi                                                          |         0.098 |\n",
      "| Somma Utilizzato su Somma Giacenza Minima negli ultimi due mesi                                                 |        -0.1   |\n",
      "| Media pesata per importo del massimo numero giorni di sconfino negli ultimi sei mesi                            |         0.257 |\n",
      "| Flag Massimo Importo Sconfino > 100 nell'ultimo mese - cliente + responsabilità limitata                        |         0.207 |\n",
      "| Massimo Numero di Rate Impagate negli ultimi tre mesi (altro rateali - non mutui)                               |        -0.07  |\n",
      "| Somma Importo Effetti Protestati + Richiamati su Importo Effetti Scaduti negli ultimi 3 mesi                    |         0.106 |\n",
      "| Somma Importo Effetti Trassati Insoluti su Importo Effetti Scaduti negli ultimi tre mesi                        |         0.322 |\n",
      "| utilizzo su accordato revoca snb                                                                                |         0.308 |\n",
      "| utilizzo su accordato autoliquidante snb                                                                        |         0.267 |\n",
      "| sconfino scadenza su margine scadenza                                                                           |        -0.002 |\n",
      "| utilizzato cassa su fatturato                                                                                   |        -0.033 |\n",
      "| factoring scaduto su (factoring pro solvendo + factoring pro soluto)                                            |        -0.022 |\n",
      "| sconfino medio revoca > 1000€                                                                                   |         0.183 |\n",
      "| utilizzo firma finanziaria su accordato firma finanziaria                                                       |         0.116 |\n",
      "| Copertura dell'indebitamento                                                                                    |         0.116 |\n",
      "| Debiti bancari su ricavi netti                                                                                  |         0.014 |\n",
      "| Valore debiti commerciali                                                                                       |         0.007 |\n",
      "| Liquidità su attivo netto                                                                                       |         0.046 |\n",
      "| Utile su ricavi                                                                                                 |         0.069 |\n",
      "| Livello di allerta complessivo, differenziato per Ateco, con soglie 0, 1, 3                                     |        -0.015 |\n",
      "| Regolarità mensile nel pagamento di prestiti e finanziamenti                                                    |        -0.001 |\n",
      "| Misura di movimentazione del conto, che considera sia il numero che gli importi dei movimenti di conto corrente |         0.174 |\n",
      "| Importo mediano della somma entrate settimanali delle ultime 52 settimane                                       |         0.092 |\n",
      "| PD media ufficiale nell’ultimo mese                                                                             |         0.261 |\n",
      "| Variazione tra il tasso di default previsto a 12 mesi e il tasso osservato nell’ultimo trimestre                |        -0.027 |\n",
      "<table>\n",
      "\n"
     ]
    }
   ],
   "source": [
    "print(prompt)"
   ]
  },
  {
   "cell_type": "code",
   "execution_count": 80,
   "metadata": {},
   "outputs": [
    {
     "name": "stdout",
     "output_type": "stream",
     "text": [
      "Il modello ha effettuato la previsione basandosi principalmente su variabili legate all'uso del credito e al comportamento finanziario del cliente. \n",
      "\n",
      "La variabile con il maggiore SHAP-value positivo è \"Somma Utilizzato su Somma Accordato negli ultimi due mesi\" (0.396), indicando che il cliente ha utilizzato una grande parte del credito a sua disposizione negli ultimi due mesi. Questo potrebbe suggerire un possibile rischio di insolvenza, poiché l'uso eccessivo del credito può indicare problemi finanziari.\n",
      "\n",
      "Altre variabili importanti con SHAP-value positivi sono \"Media pesata per importo del massimo numero giorni di sconfino negli ultimi sei mesi\" (0.257), \"Flag Massimo Importo Sconfino > 100 nell'ultimo mese - cliente + responsabilità limitata\" (0.207), \"Somma Importo Effetti Trassati Insoluti su Importo Effetti Scaduti negli ultimi tre mesi\" (0.322), \"utilizzo su accordato revoca snb\" (0.308) e \"utilizzo su accordato autoliquidante snb\" (0.267). Queste variabili indicano che il cliente ha avuto problemi nel rispettare i limiti del suo conto corrente e ha avuto un alto numero di effetti insoluti, entrambi segnali di potenziali problemi finanziari.\n",
      "\n",
      "D'altra parte, la variabile con il maggiore SHAP-value negativo è \"Somma Utilizzato su Somma Giacenza Minima negli ultimi due mesi\" (-0.1), indicando che il cliente ha mantenuto un saldo minimo relativamente alto nel suo conto corrente negli ultimi due mesi, il che è un segnale positivo per la sua stabilità finanziaria.\n",
      "\n",
      "In sintesi, il modello sembra indicare che, nonostante il cliente abbia mantenuto un saldo minimo relativamente alto, ha mostrato segni di potenziali problemi finanziari, come l'uso eccessivo del credito e il mancato rispetto dei limiti del conto corrente. Questi fattori hanno contribuito alla previsione del modello.\n"
     ]
    }
   ],
   "source": [
    "risp = base_llm.invoke(prompt).content\n",
    "print(risp)"
   ]
  },
  {
   "cell_type": "code",
   "execution_count": null,
   "metadata": {},
   "outputs": [],
   "source": [
    "Valuta contemporaneamente più variabili per dettagliare meglio l'operatività del cliente.\n"
   ]
  },
  {
   "cell_type": "code",
   "execution_count": 85,
   "metadata": {},
   "outputs": [
    {
     "name": "stdout",
     "output_type": "stream",
     "text": [
      "\n",
      "Sei un data scientist che lavora in una banca. Il tuo capo ha ricevuto la tabella compresa tra i tag <table> in cui è indicato il contributo ogni variabile alla previsione di un modello di classificazione (Il modello vuole prevedere il rischio di insolvenza di un prestito per un cliente).\n",
      "Non essendo una persona tecnica, ha bisogno che lo aiuti ad interpretare la tabella. \n",
      "Le informazioni che gli interessano sapere sono:\n",
      "- le caratteristiche principali del cliente\n",
      "- come si sta comportando il cliente\n",
      "- quale comportamento del cliente si può dedurre combinando il contributo di più variabili assieme \n",
      "\n",
      "Tieni a mente che un valore positivo di contributo indica che la variabile ha alzato il rischio di insolvenza; valori negativi indicano diminuzione del rischio mentre valori prossimi allo zero indicano scarsa influenza.\n",
      "Focalizzati sulle variabili con contributo assoluto maggiore.\n",
      "\n",
      "<table>\n",
      "| Descrizione                                                                                                     |   SHAP_values |\n",
      "|:----------------------------------------------------------------------------------------------------------------|--------------:|\n",
      "| Somma Utilizzato su Somma Accordato negli ultimi due mesi                                                       |         0.396 |\n",
      "| Media Giorni di Disponibilità CC negli ultimi tre mesi                                                          |         0.098 |\n",
      "| Somma Utilizzato su Somma Giacenza Minima negli ultimi due mesi                                                 |        -0.1   |\n",
      "| Media pesata per importo del massimo numero giorni di sconfino negli ultimi sei mesi                            |         0.257 |\n",
      "| Flag Massimo Importo Sconfino > 100 nell'ultimo mese - cliente + responsabilità limitata                        |         0.207 |\n",
      "| Massimo Numero di Rate Impagate negli ultimi tre mesi (altro rateali - non mutui)                               |        -0.07  |\n",
      "| Somma Importo Effetti Protestati + Richiamati su Importo Effetti Scaduti negli ultimi 3 mesi                    |         0.106 |\n",
      "| Somma Importo Effetti Trassati Insoluti su Importo Effetti Scaduti negli ultimi tre mesi                        |         0.322 |\n",
      "| utilizzo su accordato revoca snb                                                                                |         0.308 |\n",
      "| utilizzo su accordato autoliquidante snb                                                                        |         0.267 |\n",
      "| sconfino scadenza su margine scadenza                                                                           |        -0.002 |\n",
      "| utilizzato cassa su fatturato                                                                                   |        -0.033 |\n",
      "| factoring scaduto su (factoring pro solvendo + factoring pro soluto)                                            |        -0.022 |\n",
      "| sconfino medio revoca > 1000€                                                                                   |         0.183 |\n",
      "| utilizzo firma finanziaria su accordato firma finanziaria                                                       |         0.116 |\n",
      "| Copertura dell'indebitamento                                                                                    |         0.116 |\n",
      "| Debiti bancari su ricavi netti                                                                                  |         0.014 |\n",
      "| Valore debiti commerciali                                                                                       |         0.007 |\n",
      "| Liquidità su attivo netto                                                                                       |         0.046 |\n",
      "| Utile su ricavi                                                                                                 |         0.069 |\n",
      "| Livello di allerta complessivo, differenziato per Ateco, con soglie 0, 1, 3                                     |        -0.015 |\n",
      "| Regolarità mensile nel pagamento di prestiti e finanziamenti                                                    |        -0.001 |\n",
      "| Misura di movimentazione del conto, che considera sia il numero che gli importi dei movimenti di conto corrente |         0.174 |\n",
      "| Importo mediano della somma entrate settimanali delle ultime 52 settimane                                       |         0.092 |\n",
      "| PD media ufficiale nell’ultimo mese                                                                             |         0.261 |\n",
      "| Variazione tra il tasso di default previsto a 12 mesi e il tasso osservato nell’ultimo trimestre                |        -0.027 |\n",
      "<table>\n",
      "\n"
     ]
    }
   ],
   "source": [
    "prompt = \"\"\"\n",
    "Sei un data scientist che lavora in una banca. Il tuo capo ha ricevuto la tabella compresa tra i tag <table> in cui è indicato il contributo ogni variabile alla previsione di un modello di classificazione (Il modello vuole prevedere il rischio di insolvenza di un prestito per un cliente).\n",
    "Non essendo una persona tecnica, ha bisogno che lo aiuti ad interpretare la tabella. \n",
    "Le informazioni che gli interessano sapere sono:\n",
    "- le caratteristiche principali del cliente\n",
    "- come si sta comportando il cliente\n",
    "- quale comportamento del cliente si può dedurre combinando il contributo di più variabili assieme \n",
    "\n",
    "Tieni a mente che un valore positivo di contributo indica che la variabile ha alzato il rischio di insolvenza; valori negativi indicano diminuzione del rischio mentre valori prossimi allo zero indicano scarsa influenza.\n",
    "Focalizzati sulle variabili con contributo assoluto maggiore.\n",
    "\n",
    "<table>\n",
    "{table}\n",
    "<table>\n",
    "\"\"\".format(table = mkd_table)\n",
    "\n",
    "print(prompt)"
   ]
  },
  {
   "cell_type": "code",
   "execution_count": 86,
   "metadata": {},
   "outputs": [
    {
     "name": "stdout",
     "output_type": "stream",
     "text": [
      "Dalla tabella possiamo dedurre diverse informazioni sul cliente e sul suo comportamento finanziario.\n",
      "\n",
      "Caratteristiche principali del cliente:\n",
      "- Il cliente ha utilizzato una somma significativa rispetto a quella accordata negli ultimi due mesi, il che ha aumentato il rischio di insolvenza.\n",
      "- Il cliente ha avuto una media di giorni di disponibilità del conto corrente negli ultimi tre mesi che ha contribuito positivamente al rischio di insolvenza.\n",
      "- Il cliente ha avuto un numero massimo di giorni di sconfino (ovvero giorni in cui il saldo del conto è andato sotto zero) negli ultimi sei mesi che ha contribuito positivamente al rischio di insolvenza.\n",
      "- Il cliente ha avuto un importo significativo di effetti protestati o richiamati rispetto agli effetti scaduti negli ultimi tre mesi, il che ha aumentato il rischio di insolvenza.\n",
      "\n",
      "Comportamento del cliente:\n",
      "- Il cliente ha avuto un utilizzo elevato rispetto all'accordato sia per la revoca snb che per l'autoliquidante snb, entrambi contribuendo positivamente al rischio di insolvenza.\n",
      "- Il cliente ha avuto un sconfino medio per la revoca superiore a 1000€, il che ha aumentato il rischio di insolvenza.\n",
      "- Il cliente ha avuto un utilizzo della firma finanziaria rispetto all'accordato per la firma finanziaria che ha contribuito positivamente al rischio di insolvenza.\n",
      "\n",
      "Combinando il contributo di più variabili assieme:\n",
      "- Il cliente sembra avere un comportamento finanziario rischioso, con un utilizzo elevato dei fondi rispetto a quelli accordati, un numero significativo di giorni di sconfino e un importo significativo di effetti protestati o richiamati.\n",
      "- Questo comportamento, combinato con l'alto utilizzo della firma finanziaria e l'elevato sconfino medio, suggerisce che il cliente potrebbe avere difficoltà a gestire i propri debiti e potrebbe essere a rischio di insolvenza.\n"
     ]
    }
   ],
   "source": [
    "risp = base_llm.invoke(prompt).content\n",
    "print(risp)"
   ]
  },
  {
   "cell_type": "code",
   "execution_count": 92,
   "metadata": {},
   "outputs": [
    {
     "name": "stdout",
     "output_type": "stream",
     "text": [
      "\n",
      "Sei un data scientist che lavora in una banca. Il tuo capo ha ricevuto la tabella compresa tra i tag <table> in cui è indicato il contributo ogni variabile alla previsione di un modello di classificazione (Il modello vuole prevedere il rischio di insolvenza di un prestito per un cliente).\n",
      "Non essendo una persona tecnica, ha bisogno che lo aiuti ad interpretare la tabella. \n",
      "Ragiona per passi: individua le caratteristiche principali del cliente considerato e come queste si relazionano al rischio di insolvenza. Successivamente, combina quando dedotto e descrivi come si sta comportando il cliente.\n",
      "Concludi fornendo una spiegazione delle evidenze trovate giustificandole.\n",
      "\n",
      "Focalizzati sulle variabili con contributo assoluto maggiore.\n",
      "\n",
      "Tieni a mente che un valore positivo di contributo indica che la variabile ha alzato il rischio di insolvenza; valori negativi indicano diminuzione del rischio mentre valori prossimi allo zero indicano scarsa influenza.\n",
      "\n",
      "<table>\n",
      "| Descrizione                                                                                                     |   SHAP_values |\n",
      "|:----------------------------------------------------------------------------------------------------------------|--------------:|\n",
      "| Somma Utilizzato su Somma Accordato negli ultimi due mesi                                                       |         0.396 |\n",
      "| Media Giorni di Disponibilità CC negli ultimi tre mesi                                                          |         0.098 |\n",
      "| Somma Utilizzato su Somma Giacenza Minima negli ultimi due mesi                                                 |        -0.1   |\n",
      "| Media pesata per importo del massimo numero giorni di sconfino negli ultimi sei mesi                            |         0.257 |\n",
      "| Flag Massimo Importo Sconfino > 100 nell'ultimo mese - cliente + responsabilità limitata                        |         0.207 |\n",
      "| Massimo Numero di Rate Impagate negli ultimi tre mesi (altro rateali - non mutui)                               |        -0.07  |\n",
      "| Somma Importo Effetti Protestati + Richiamati su Importo Effetti Scaduti negli ultimi 3 mesi                    |         0.106 |\n",
      "| Somma Importo Effetti Trassati Insoluti su Importo Effetti Scaduti negli ultimi tre mesi                        |         0.322 |\n",
      "| utilizzo su accordato revoca snb                                                                                |         0.308 |\n",
      "| utilizzo su accordato autoliquidante snb                                                                        |         0.267 |\n",
      "| sconfino scadenza su margine scadenza                                                                           |        -0.002 |\n",
      "| utilizzato cassa su fatturato                                                                                   |        -0.033 |\n",
      "| factoring scaduto su (factoring pro solvendo + factoring pro soluto)                                            |        -0.022 |\n",
      "| sconfino medio revoca > 1000€                                                                                   |         0.183 |\n",
      "| utilizzo firma finanziaria su accordato firma finanziaria                                                       |         0.116 |\n",
      "| Copertura dell'indebitamento                                                                                    |         0.116 |\n",
      "| Debiti bancari su ricavi netti                                                                                  |         0.014 |\n",
      "| Valore debiti commerciali                                                                                       |         0.007 |\n",
      "| Liquidità su attivo netto                                                                                       |         0.046 |\n",
      "| Utile su ricavi                                                                                                 |         0.069 |\n",
      "| Livello di allerta complessivo, differenziato per Ateco, con soglie 0, 1, 3                                     |        -0.015 |\n",
      "| Regolarità mensile nel pagamento di prestiti e finanziamenti                                                    |        -0.001 |\n",
      "| Misura di movimentazione del conto, che considera sia il numero che gli importi dei movimenti di conto corrente |         0.174 |\n",
      "| Importo mediano della somma entrate settimanali delle ultime 52 settimane                                       |         0.092 |\n",
      "| PD media ufficiale nell’ultimo mese                                                                             |         0.261 |\n",
      "| Variazione tra il tasso di default previsto a 12 mesi e il tasso osservato nell’ultimo trimestre                |        -0.027 |\n",
      "<table>\n",
      "\n"
     ]
    }
   ],
   "source": [
    "prompt = \"\"\"\n",
    "Sei un data scientist che lavora in una banca. Il tuo capo ha ricevuto la tabella compresa tra i tag <table> in cui è indicato il contributo ogni variabile alla previsione di un modello di classificazione (Il modello vuole prevedere il rischio di insolvenza di un prestito per un cliente).\n",
    "Non essendo una persona tecnica, ha bisogno che lo aiuti ad interpretare la tabella. \n",
    "Ragiona per passi: individua le caratteristiche principali del cliente considerato e come queste si relazionano al rischio di insolvenza. Successivamente, combina quando dedotto e descrivi come si sta comportando il cliente.\n",
    "Concludi fornendo una spiegazione delle evidenze trovate giustificandole.\n",
    "\n",
    "Focalizzati sulle variabili con contributo assoluto maggiore.\n",
    "\n",
    "Tieni a mente che un valore positivo di contributo indica che la variabile ha alzato il rischio di insolvenza; valori negativi indicano diminuzione del rischio mentre valori prossimi allo zero indicano scarsa influenza.\n",
    "\n",
    "<table>\n",
    "{table}\n",
    "<table>\n",
    "\"\"\".format(table = mkd_table)\n",
    "\n",
    "\n",
    "print(prompt)"
   ]
  },
  {
   "cell_type": "code",
   "execution_count": 93,
   "metadata": {},
   "outputs": [
    {
     "name": "stdout",
     "output_type": "stream",
     "text": [
      "Dalla tabella possiamo dedurre diverse informazioni sul comportamento del cliente e sul suo rischio di insolvenza.\n",
      "\n",
      "Innanzitutto, vediamo che la variabile con il contributo più alto è \"Somma Utilizzato su Somma Accordato negli ultimi due mesi\" con un valore di 0.396. Questo indica che il cliente ha utilizzato una grande parte del credito a sua disposizione negli ultimi due mesi, aumentando il rischio di insolvenza.\n",
      "\n",
      "Un altro fattore che ha contribuito all'aumento del rischio è la \"Media pesata per importo del massimo numero giorni di sconfino negli ultimi sei mesi\" (0.257). Questo suggerisce che il cliente ha superato il limite del suo conto corrente per un numero significativo di giorni, un altro segnale di potenziale difficoltà finanziaria.\n",
      "\n",
      "Inoltre, il \"Flag Massimo Importo Sconfino > 100 nell'ultimo mese - cliente + responsabilità limitata\" (0.207) indica che il cliente ha superato il suo limite di credito di un importo significativo nell'ultimo mese, un altro segnale di rischio.\n",
      "\n",
      "D'altra parte, ci sono alcune variabili che hanno contribuito a ridurre il rischio di insolvenza. Ad esempio, la \"Somma Utilizzato su Somma Giacenza Minima negli ultimi due mesi\" ha un valore di -0.1, indicando che il cliente ha mantenuto un saldo minimo relativamente alto nel suo conto, riducendo il rischio.\n",
      "\n",
      "Inoltre, il \"Massimo Numero di Rate Impagate negli ultimi tre mesi (altro rateali - non mutui)\" ha un valore di -0.07, suggerendo che il cliente è stato in grado di mantenere i pagamenti delle rate, un segnale positivo.\n",
      "\n",
      "In sintesi, sembra che il cliente stia mostrando alcuni segnali di potenziale difficoltà finanziaria, come l'uso eccessivo del credito e il superamento del limite del conto corrente. Tuttavia, ci sono anche alcuni segnali positivi, come il mantenimento di un saldo minimo relativamente alto e il pagamento regolare delle rate. Questi fattori combinati suggeriscono un rischio moderato di insolvenza.\n"
     ]
    }
   ],
   "source": [
    "risp = base_llm.invoke(prompt).content\n",
    "print(risp)"
   ]
  }
 ],
 "metadata": {
  "kernelspec": {
   "display_name": "bper_venv",
   "language": "python",
   "name": "python3"
  },
  "language_info": {
   "codemirror_mode": {
    "name": "ipython",
    "version": 3
   },
   "file_extension": ".py",
   "mimetype": "text/x-python",
   "name": "python",
   "nbconvert_exporter": "python",
   "pygments_lexer": "ipython3",
   "version": "3.10.13"
  }
 },
 "nbformat": 4,
 "nbformat_minor": 2
}
